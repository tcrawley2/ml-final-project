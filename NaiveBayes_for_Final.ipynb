{
 "cells": [
  {
   "cell_type": "markdown",
   "id": "da95bb08",
   "metadata": {},
   "source": [
    "# ML Final Project"
   ]
  },
  {
   "cell_type": "markdown",
   "id": "64ce5c75",
   "metadata": {},
   "source": [
    "## Data Preprocessing"
   ]
  },
  {
   "cell_type": "code",
   "execution_count": 5,
   "id": "481ab948",
   "metadata": {},
   "outputs": [],
   "source": [
    "import pandas as pd\n",
    "import numpy as np\n",
    "import matplotlib.pyplot as plt\n",
    "import json\n",
    "import random\n",
    "\n",
    "from scipy import sparse\n",
    "\n",
    "from sklearn.pipeline import Pipeline, make_pipeline\n",
    "from sklearn.feature_extraction.text import TfidfVectorizer\n",
    "from sklearn.base import BaseEstimator, ClassifierMixin\n",
    "from sklearn.linear_model import LogisticRegression\n",
    "from sklearn.model_selection import cross_val_score\n",
    "from sklearn import metrics\n",
    "from sklearn.metrics import roc_auc_score\n",
    "from sklearn.model_selection import train_test_split\n",
    "from sklearn.feature_extraction.text import CountVectorizer\n",
    "from sklearn.naive_bayes import MultinomialNB\n",
    "from sklearn.metrics import accuracy_score, classification_report, confusion_matrix"
   ]
  },
  {
   "cell_type": "code",
   "execution_count": 13,
   "id": "a6738cc4",
   "metadata": {},
   "outputs": [],
   "source": [
    "# import the data (chunksize returns jsonReader for iteration)\n",
    "businesses = pd.read_json(\"yelp_academic_dataset_business.json\", lines=True, orient='columns', chunksize=200000)\n",
    "reviews = pd.read_json(\"yelp_academic_dataset_review.json\", lines=True, orient='columns', chunksize=200000)"
   ]
  },
  {
   "cell_type": "code",
   "execution_count": 14,
   "id": "29b69f3d",
   "metadata": {},
   "outputs": [],
   "source": [
    "# read the data\n",
    "for business in businesses:\n",
    "    business_chunk = business\n",
    "    break\n",
    "\n",
    "for review in reviews:\n",
    "    review_chunk = review\n",
    "    break"
   ]
  },
  {
   "cell_type": "code",
   "execution_count": 19,
   "id": "16a660b0",
   "metadata": {},
   "outputs": [
    {
     "data": {
      "text/plain": [
       "16116"
      ]
     },
     "execution_count": 19,
     "metadata": {},
     "output_type": "execute_result"
    }
   ],
   "source": [
    "len(review_chunk[review_chunk['stars']==2])"
   ]
  },
  {
   "cell_type": "code",
   "execution_count": 18,
   "id": "2d3604ba",
   "metadata": {},
   "outputs": [
    {
     "data": {
      "image/png": "[encoded data removed]",
      "text/plain": [
       "<Figure size 432x288 with 1 Axes>"
      ]
     },
     "metadata": {
      "needs_background": "light"
     },
     "output_type": "display_data"
    }
   ],
   "source": [
    "plt.hist(review_chunk['stars'], range=(0.5,5.5), bins=5, edgecolor=\"black\")\n",
    "plt.show()"
   ]
  },
  {
   "cell_type": "markdown",
   "id": "23e403f0",
   "metadata": {},
   "source": [
    "We verified that there weren't any null values in the stars category within our dataset."
   ]
  },
  {
   "cell_type": "code",
   "execution_count": 21,
   "id": "c1ad44eb",
   "metadata": {
    "scrolled": true
   },
   "outputs": [
    {
     "data": {
      "text/plain": [
       "0"
      ]
     },
     "execution_count": 21,
     "metadata": {},
     "output_type": "execute_result"
    }
   ],
   "source": [
    "review_chunk['stars'].isna().sum()"
   ]
  },
  {
   "cell_type": "code",
   "execution_count": 22,
   "id": "8ce7fa9d",
   "metadata": {},
   "outputs": [
    {
     "data": {
      "text/plain": [
       "0"
      ]
     },
     "execution_count": 22,
     "metadata": {},
     "output_type": "execute_result"
    }
   ],
   "source": [
    "review_chunk['stars'].isnull().sum()"
   ]
  },
  {
   "cell_type": "code",
   "execution_count": 26,
   "id": "d65eba93",
   "metadata": {},
   "outputs": [
    {
     "data": {
      "text/plain": [
       "'Doctors, Traditional Chinese Medicine, Naturopathic/Holistic, Acupuncture, Health & Medical, Nutritionists'"
      ]
     },
     "execution_count": 26,
     "metadata": {},
     "output_type": "execute_result"
    }
   ],
   "source": [
    "business_chunk.iloc[0]['categories']\n"
   ]
  },
  {
   "cell_type": "markdown",
   "id": "9c6562db",
   "metadata": {},
   "source": [
    "Per our problem statement, we restrict establishments to those who identify themselves as restaurants."
   ]
  },
  {
   "cell_type": "code",
   "execution_count": 27,
   "id": "0972acf6",
   "metadata": {},
   "outputs": [],
   "source": [
    "# To create a df of reviews of Restaurants\n",
    "a = business_chunk[business['categories'].str.contains('Restaurant') == True]\n",
    "rev = review_chunk[review_chunk.business_id.isin(a['business_id']) == True]"
   ]
  },
  {
   "cell_type": "code",
   "execution_count": 29,
   "id": "ed2a9bde",
   "metadata": {},
   "outputs": [
    {
     "data": {
      "text/plain": [
       "(144425, 9)"
      ]
     },
     "execution_count": 29,
     "metadata": {},
     "output_type": "execute_result"
    }
   ],
   "source": [
    "rev.shape"
   ]
  },
  {
   "cell_type": "code",
   "execution_count": 30,
   "id": "e284cc94",
   "metadata": {},
   "outputs": [
    {
     "data": {
      "image/png": "[encoded data removed]",
      "text/plain": [
       "<Figure size 432x288 with 1 Axes>"
      ]
     },
     "metadata": {
      "needs_background": "light"
     },
     "output_type": "display_data"
    }
   ],
   "source": [
    "plt.hist(rev['stars'], range=(0.5,5.5), bins=5, edgecolor=\"black\")\n",
    "plt.show()"
   ]
  },
  {
   "cell_type": "markdown",
   "id": "e8b497ba",
   "metadata": {},
   "source": [
    "As you can see, the data is skewed more toward reviews with higher ratings. Below, we take steps to evenly distribute the reviews so the model doesn't skew toward a specific stars value."
   ]
  },
  {
   "cell_type": "code",
   "execution_count": 31,
   "id": "f0a16196",
   "metadata": {},
   "outputs": [
    {
     "data": {
      "text/plain": [
       "12836"
      ]
     },
     "execution_count": 31,
     "metadata": {},
     "output_type": "execute_result"
    }
   ],
   "source": [
    "len(rev[rev['stars']==2])"
   ]
  },
  {
   "cell_type": "code",
   "execution_count": 32,
   "id": "07a15de4",
   "metadata": {},
   "outputs": [],
   "source": [
    "# function to take equal sample from existing dataframe\n",
    "def equal_sample(df, target_column, sample_size):\n",
    "    grouped = df.groupby(target_column, group_keys=False)\n",
    "    sampled_df = grouped.apply(lambda x: x.sample(min(len(x), sample_size)))\n",
    "    return sampled_df"
   ]
  },
  {
   "cell_type": "code",
   "execution_count": 33,
   "id": "b287a357",
   "metadata": {},
   "outputs": [],
   "source": [
    "df = equal_sample(rev, 'stars', 12000)"
   ]
  },
  {
   "cell_type": "code",
   "execution_count": 61,
   "id": "7b0aa857",
   "metadata": {},
   "outputs": [
    {
     "data": {
      "image/png": "[encoded data removed]",
      "text/plain": [
       "<Figure size 432x288 with 1 Axes>"
      ]
     },
     "metadata": {
      "needs_background": "light"
     },
     "output_type": "display_data"
    }
   ],
   "source": [
    "plt.hist(df['stars'], range=(0.25, 5.25), edgecolor='black')\n",
    "plt.show()"
   ]
  },
  {
   "cell_type": "code",
   "execution_count": 37,
   "id": "794a6ce6",
   "metadata": {},
   "outputs": [
    {
     "data": {
      "text/html": [
       "<div>\n",
       "<style scoped>\n",
       "    .dataframe tbody tr th:only-of-type {\n",
       "        vertical-align: middle;\n",
       "    }\n",
       "\n",
       "    .dataframe tbody tr th {\n",
       "        vertical-align: top;\n",
       "    }\n",
       "\n",
       "    .dataframe thead th {\n",
       "        text-align: right;\n",
       "    }\n",
       "</style>\n",
       "<table border=\"1\" class=\"dataframe\">\n",
       "  <thead>\n",
       "    <tr style=\"text-align: right;\">\n",
       "      <th></th>\n",
       "      <th>review_id</th>\n",
       "      <th>user_id</th>\n",
       "      <th>business_id</th>\n",
       "      <th>stars</th>\n",
       "      <th>useful</th>\n",
       "      <th>funny</th>\n",
       "      <th>cool</th>\n",
       "      <th>text</th>\n",
       "      <th>date</th>\n",
       "    </tr>\n",
       "  </thead>\n",
       "  <tbody>\n",
       "    <tr>\n",
       "      <th>120541</th>\n",
       "      <td>qrc6_i4ZphAbHlBDKBh5uw</td>\n",
       "      <td>lGMCV5BHXnjbyurOhuQPLA</td>\n",
       "      <td>wHyRfaCUBVG9GfXkNIzLzA</td>\n",
       "      <td>1</td>\n",
       "      <td>1</td>\n",
       "      <td>0</td>\n",
       "      <td>0</td>\n",
       "      <td>So gross. We were in a mood for some wings and...</td>\n",
       "      <td>2013-08-18 12:24:00</td>\n",
       "    </tr>\n",
       "    <tr>\n",
       "      <th>119243</th>\n",
       "      <td>N4S4Ok_ePQV4a3D8zoXbNA</td>\n",
       "      <td>M6h21fv71wG8UtKfAbn8wA</td>\n",
       "      <td>py5aKmlTB2NarfsfcOpHOQ</td>\n",
       "      <td>1</td>\n",
       "      <td>1</td>\n",
       "      <td>0</td>\n",
       "      <td>0</td>\n",
       "      <td>I am fine with the mediocre food in the airpor...</td>\n",
       "      <td>2017-04-10 20:50:53</td>\n",
       "    </tr>\n",
       "    <tr>\n",
       "      <th>50160</th>\n",
       "      <td>ena3iJKbRqRIt42ebPTsGQ</td>\n",
       "      <td>dmHtz-O3C3YAMNnyyhjodg</td>\n",
       "      <td>RK93mcFftFbN2UN7JXBp6Q</td>\n",
       "      <td>2</td>\n",
       "      <td>0</td>\n",
       "      <td>0</td>\n",
       "      <td>1</td>\n",
       "      <td>Its a sports bar...service is good at best usu...</td>\n",
       "      <td>2016-04-12 01:42:01</td>\n",
       "    </tr>\n",
       "    <tr>\n",
       "      <th>188088</th>\n",
       "      <td>HwYm34sdGmfc43o4uHislg</td>\n",
       "      <td>qwnb79Gm1aXDLgJU11cM6Q</td>\n",
       "      <td>LswO4EWgN99h6NEEJ7qtCA</td>\n",
       "      <td>2</td>\n",
       "      <td>1</td>\n",
       "      <td>0</td>\n",
       "      <td>0</td>\n",
       "      <td>I went there recently and was not impressed  ....</td>\n",
       "      <td>2014-03-27 05:29:27</td>\n",
       "    </tr>\n",
       "  </tbody>\n",
       "</table>\n",
       "</div>"
      ],
      "text/plain": [
       "                     review_id                 user_id  \\\n",
       "120541  qrc6_i4ZphAbHlBDKBh5uw  lGMCV5BHXnjbyurOhuQPLA   \n",
       "119243  N4S4Ok_ePQV4a3D8zoXbNA  M6h21fv71wG8UtKfAbn8wA   \n",
       "50160   ena3iJKbRqRIt42ebPTsGQ  dmHtz-O3C3YAMNnyyhjodg   \n",
       "188088  HwYm34sdGmfc43o4uHislg  qwnb79Gm1aXDLgJU11cM6Q   \n",
       "\n",
       "                   business_id  stars  useful  funny  cool  \\\n",
       "120541  wHyRfaCUBVG9GfXkNIzLzA      1       1      0     0   \n",
       "119243  py5aKmlTB2NarfsfcOpHOQ      1       1      0     0   \n",
       "50160   RK93mcFftFbN2UN7JXBp6Q      2       0      0     1   \n",
       "188088  LswO4EWgN99h6NEEJ7qtCA      2       1      0     0   \n",
       "\n",
       "                                                     text                date  \n",
       "120541  So gross. We were in a mood for some wings and... 2013-08-18 12:24:00  \n",
       "119243  I am fine with the mediocre food in the airpor... 2017-04-10 20:50:53  \n",
       "50160   Its a sports bar...service is good at best usu... 2016-04-12 01:42:01  \n",
       "188088  I went there recently and was not impressed  .... 2014-03-27 05:29:27  "
      ]
     },
     "execution_count": 37,
     "metadata": {},
     "output_type": "execute_result"
    }
   ],
   "source": [
    "df.iloc[11998:12002]"
   ]
  },
  {
   "cell_type": "code",
   "execution_count": 38,
   "id": "96863b27",
   "metadata": {},
   "outputs": [
    {
     "data": {
      "text/html": [
       "<div>\n",
       "<style scoped>\n",
       "    .dataframe tbody tr th:only-of-type {\n",
       "        vertical-align: middle;\n",
       "    }\n",
       "\n",
       "    .dataframe tbody tr th {\n",
       "        vertical-align: top;\n",
       "    }\n",
       "\n",
       "    .dataframe thead th {\n",
       "        text-align: right;\n",
       "    }\n",
       "</style>\n",
       "<table border=\"1\" class=\"dataframe\">\n",
       "  <thead>\n",
       "    <tr style=\"text-align: right;\">\n",
       "      <th></th>\n",
       "      <th>review_id</th>\n",
       "      <th>user_id</th>\n",
       "      <th>business_id</th>\n",
       "      <th>stars</th>\n",
       "      <th>useful</th>\n",
       "      <th>funny</th>\n",
       "      <th>cool</th>\n",
       "      <th>text</th>\n",
       "      <th>date</th>\n",
       "    </tr>\n",
       "  </thead>\n",
       "  <tbody>\n",
       "    <tr>\n",
       "      <th>163182</th>\n",
       "      <td>PeiyeYFgbHD9d9i66GouLQ</td>\n",
       "      <td>V_zHXuHcnKTpxzfGZ2cKYg</td>\n",
       "      <td>1bJxvwuMTyXmQGu90WLPhA</td>\n",
       "      <td>2</td>\n",
       "      <td>0</td>\n",
       "      <td>0</td>\n",
       "      <td>0</td>\n",
       "      <td>We had a 35 min. wait, but got drinks at the b...</td>\n",
       "      <td>2017-06-11 00:59:33</td>\n",
       "    </tr>\n",
       "    <tr>\n",
       "      <th>60131</th>\n",
       "      <td>3-_uWyhPb7R6-HkV6RP01A</td>\n",
       "      <td>DnvC-m22fZqZv3pAo16ZSg</td>\n",
       "      <td>c8rjE6NcfeyzLB_aU1GdMA</td>\n",
       "      <td>4</td>\n",
       "      <td>1</td>\n",
       "      <td>0</td>\n",
       "      <td>2</td>\n",
       "      <td>I recommend the following plates:\\n-philly che...</td>\n",
       "      <td>2012-01-05 21:40:53</td>\n",
       "    </tr>\n",
       "    <tr>\n",
       "      <th>156337</th>\n",
       "      <td>9UhKrSb6pe4sjXZCFnjtvQ</td>\n",
       "      <td>4nnoSLpukqpaQ5E-LCO8Zg</td>\n",
       "      <td>Oun4NN-u5yiHIxDqtJnxgA</td>\n",
       "      <td>4</td>\n",
       "      <td>0</td>\n",
       "      <td>0</td>\n",
       "      <td>0</td>\n",
       "      <td>Curry fried chicken is the best! I am not a fa...</td>\n",
       "      <td>2013-09-09 21:43:34</td>\n",
       "    </tr>\n",
       "    <tr>\n",
       "      <th>37149</th>\n",
       "      <td>89xtX3hmTiK03sjje01Oyg</td>\n",
       "      <td>u-uCcbYr3V3Dwzxt_VyIbw</td>\n",
       "      <td>PxEiXqMAzzvp8GFlb5EoLg</td>\n",
       "      <td>1</td>\n",
       "      <td>0</td>\n",
       "      <td>0</td>\n",
       "      <td>0</td>\n",
       "      <td>Hi! My husband and I typically enjoy our time ...</td>\n",
       "      <td>2017-10-04 01:00:35</td>\n",
       "    </tr>\n",
       "    <tr>\n",
       "      <th>101252</th>\n",
       "      <td>MsJ7KjMCMeHfVp6UtcJz0Q</td>\n",
       "      <td>aVcLXG2KSKwOhabngnkDPg</td>\n",
       "      <td>bCAE5NBHpFlgGsGyg2mfWA</td>\n",
       "      <td>1</td>\n",
       "      <td>5</td>\n",
       "      <td>3</td>\n",
       "      <td>2</td>\n",
       "      <td>RUDE! Arrived at 10AM as they opened for Pride...</td>\n",
       "      <td>2016-06-25 14:26:15</td>\n",
       "    </tr>\n",
       "  </tbody>\n",
       "</table>\n",
       "</div>"
      ],
      "text/plain": [
       "                     review_id                 user_id  \\\n",
       "163182  PeiyeYFgbHD9d9i66GouLQ  V_zHXuHcnKTpxzfGZ2cKYg   \n",
       "60131   3-_uWyhPb7R6-HkV6RP01A  DnvC-m22fZqZv3pAo16ZSg   \n",
       "156337  9UhKrSb6pe4sjXZCFnjtvQ  4nnoSLpukqpaQ5E-LCO8Zg   \n",
       "37149   89xtX3hmTiK03sjje01Oyg  u-uCcbYr3V3Dwzxt_VyIbw   \n",
       "101252  MsJ7KjMCMeHfVp6UtcJz0Q  aVcLXG2KSKwOhabngnkDPg   \n",
       "\n",
       "                   business_id  stars  useful  funny  cool  \\\n",
       "163182  1bJxvwuMTyXmQGu90WLPhA      2       0      0     0   \n",
       "60131   c8rjE6NcfeyzLB_aU1GdMA      4       1      0     2   \n",
       "156337  Oun4NN-u5yiHIxDqtJnxgA      4       0      0     0   \n",
       "37149   PxEiXqMAzzvp8GFlb5EoLg      1       0      0     0   \n",
       "101252  bCAE5NBHpFlgGsGyg2mfWA      1       5      3     2   \n",
       "\n",
       "                                                     text                date  \n",
       "163182  We had a 35 min. wait, but got drinks at the b... 2017-06-11 00:59:33  \n",
       "60131   I recommend the following plates:\\n-philly che... 2012-01-05 21:40:53  \n",
       "156337  Curry fried chicken is the best! I am not a fa... 2013-09-09 21:43:34  \n",
       "37149   Hi! My husband and I typically enjoy our time ... 2017-10-04 01:00:35  \n",
       "101252  RUDE! Arrived at 10AM as they opened for Pride... 2016-06-25 14:26:15  "
      ]
     },
     "execution_count": 38,
     "metadata": {},
     "output_type": "execute_result"
    }
   ],
   "source": [
    "# Will sample the dataframe with frac of 1 to shuffle the order of the rows\n",
    "df = df.sample(frac=1, random_state=42)\n",
    "df.head()"
   ]
  },
  {
   "cell_type": "code",
   "execution_count": 39,
   "id": "8b2789e5",
   "metadata": {},
   "outputs": [
    {
     "data": {
      "text/plain": [
       "(163182    We had a 35 min. wait, but got drinks at the b...\n",
       " 60131     I recommend the following plates:\\n-philly che...\n",
       " 156337    Curry fried chicken is the best! I am not a fa...\n",
       " 37149     Hi! My husband and I typically enjoy our time ...\n",
       " 101252    RUDE! Arrived at 10AM as they opened for Pride...\n",
       " Name: text, dtype: object,\n",
       " 163182    2\n",
       " 60131     4\n",
       " 156337    4\n",
       " 37149     1\n",
       " 101252    1\n",
       " Name: stars, dtype: int64)"
      ]
     },
     "execution_count": 39,
     "metadata": {},
     "output_type": "execute_result"
    }
   ],
   "source": [
    "X = df['text']\n",
    "y = df['stars']\n",
    "\n",
    "X.head(), y.head()"
   ]
  },
  {
   "cell_type": "code",
   "execution_count": 40,
   "id": "fc1d7e01",
   "metadata": {},
   "outputs": [],
   "source": [
    "X_train, X_test, y_train, y_test = train_test_split(X, y, test_size=0.2, random_state=42)"
   ]
  },
  {
   "cell_type": "code",
   "execution_count": 41,
   "id": "a8529de6",
   "metadata": {},
   "outputs": [],
   "source": [
    "vector_data=CountVectorizer()\n",
    "X_train_vector_data = vector_data.fit_transform(X_train)\n",
    "X_test_vector_data = vector_data.transform(X_test)"
   ]
  },
  {
   "cell_type": "code",
   "execution_count": 43,
   "id": "fab7af42",
   "metadata": {},
   "outputs": [
    {
     "data": {
      "text/plain": [
       "MultinomialNB()"
      ]
     },
     "execution_count": 43,
     "metadata": {},
     "output_type": "execute_result"
    }
   ],
   "source": [
    "# multinomial naive bayes\n",
    "mnb = MultinomialNB()\n",
    "mnb.fit(X_train_vector_data, y_train)"
   ]
  },
  {
   "cell_type": "code",
   "execution_count": 45,
   "id": "ff6dbfa1",
   "metadata": {},
   "outputs": [],
   "source": [
    "y_pred = mnb.predict(X_test_vector_data)"
   ]
  },
  {
   "cell_type": "code",
   "execution_count": 46,
   "id": "02f7bfbf",
   "metadata": {},
   "outputs": [
    {
     "data": {
      "text/plain": [
       "0.5509166666666667"
      ]
     },
     "execution_count": 46,
     "metadata": {},
     "output_type": "execute_result"
    }
   ],
   "source": [
    "accuracy = accuracy_score(y_test, y_pred)\n",
    "accuracy"
   ]
  },
  {
   "cell_type": "code",
   "execution_count": 47,
   "id": "fe251488",
   "metadata": {},
   "outputs": [
    {
     "name": "stdout",
     "output_type": "stream",
     "text": [
      "              precision    recall  f1-score   support\n",
      "\n",
      "           1       0.66      0.68      0.67      2361\n",
      "           2       0.46      0.42      0.43      2361\n",
      "           3       0.47      0.50      0.49      2451\n",
      "           4       0.48      0.48      0.48      2353\n",
      "           5       0.68      0.67      0.68      2474\n",
      "\n",
      "    accuracy                           0.55     12000\n",
      "   macro avg       0.55      0.55      0.55     12000\n",
      "weighted avg       0.55      0.55      0.55     12000\n",
      "\n"
     ]
    }
   ],
   "source": [
    "print(classification_report(y_test, y_pred))"
   ]
  },
  {
   "cell_type": "markdown",
   "id": "bd44191d",
   "metadata": {},
   "source": [
    "We now perform Naive Bayes on the dataset using the default stop_word list in the Count Vectorizer."
   ]
  },
  {
   "cell_type": "code",
   "execution_count": 62,
   "id": "8183bc82",
   "metadata": {},
   "outputs": [],
   "source": [
    "cv_stop=CountVectorizer(stop_words='english')\n",
    "X_train_vector_data = cv_stop.fit_transform(X_train)\n",
    "X_test_vector_data = cv_stop.transform(X_test)"
   ]
  },
  {
   "cell_type": "code",
   "execution_count": 63,
   "id": "7e9c00de",
   "metadata": {},
   "outputs": [
    {
     "data": {
      "text/plain": [
       "MultinomialNB()"
      ]
     },
     "execution_count": 63,
     "metadata": {},
     "output_type": "execute_result"
    }
   ],
   "source": [
    "# multinomial naive bayes\n",
    "mnb_stop1 = MultinomialNB()\n",
    "mnb_stop1.fit(X_train_vector_data, y_train)"
   ]
  },
  {
   "cell_type": "code",
   "execution_count": 64,
   "id": "cec4586a",
   "metadata": {},
   "outputs": [],
   "source": [
    "y_pred = mnb_stop1.predict(X_test_vector_data)"
   ]
  },
  {
   "cell_type": "code",
   "execution_count": 65,
   "id": "128e753e",
   "metadata": {},
   "outputs": [
    {
     "data": {
      "text/plain": [
       "0.5383333333333333"
      ]
     },
     "execution_count": 65,
     "metadata": {},
     "output_type": "execute_result"
    }
   ],
   "source": [
    "accuracy = accuracy_score(y_test, y_pred)\n",
    "accuracy"
   ]
  },
  {
   "cell_type": "code",
   "execution_count": 66,
   "id": "6c56770b",
   "metadata": {},
   "outputs": [
    {
     "name": "stdout",
     "output_type": "stream",
     "text": [
      "              precision    recall  f1-score   support\n",
      "\n",
      "           1       0.65      0.68      0.66      2361\n",
      "           2       0.45      0.43      0.44      2361\n",
      "           3       0.46      0.46      0.46      2451\n",
      "           4       0.46      0.47      0.46      2353\n",
      "           5       0.67      0.65      0.66      2474\n",
      "\n",
      "    accuracy                           0.54     12000\n",
      "   macro avg       0.54      0.54      0.54     12000\n",
      "weighted avg       0.54      0.54      0.54     12000\n",
      "\n"
     ]
    }
   ],
   "source": [
    "print(classification_report(y_test, y_pred))"
   ]
  },
  {
   "cell_type": "markdown",
   "id": "cd851e4b",
   "metadata": {},
   "source": [
    "From the results above, the use of stopwords actually had a negative impact on the results of the classifier. Because of this we will examine the \"english\" list of stopwords and remove words that may have positive and negative connotations (e.g. not, never, etc.)"
   ]
  },
  {
   "cell_type": "code",
   "execution_count": 50,
   "id": "e74e8148",
   "metadata": {},
   "outputs": [
    {
     "data": {
      "text/plain": [
       "['where',\n",
       " 'twelve',\n",
       " 'therein',\n",
       " 'must',\n",
       " 'because',\n",
       " 'done',\n",
       " 'up',\n",
       " 'without',\n",
       " 'cry',\n",
       " 'seem',\n",
       " 'eight',\n",
       " 'those',\n",
       " 'himself',\n",
       " 'should',\n",
       " 'yourself',\n",
       " 'enough',\n",
       " 'behind',\n",
       " 'often',\n",
       " 'whose',\n",
       " 'now',\n",
       " 'any',\n",
       " 'the',\n",
       " 'other',\n",
       " 'i',\n",
       " 'ten',\n",
       " 'anyway',\n",
       " 'sometimes',\n",
       " 'almost',\n",
       " 'ours',\n",
       " 'to',\n",
       " 'hereupon',\n",
       " 'see',\n",
       " 'except',\n",
       " 'wherein',\n",
       " 'thence',\n",
       " 'me',\n",
       " 'alone',\n",
       " 'found',\n",
       " 'un',\n",
       " 'my',\n",
       " 'forty',\n",
       " 'all',\n",
       " 'had',\n",
       " 'in',\n",
       " 'this',\n",
       " 'yours',\n",
       " 'am',\n",
       " 'whereupon',\n",
       " 'for',\n",
       " 'still',\n",
       " 'per',\n",
       " 'third',\n",
       " 'were',\n",
       " 'back',\n",
       " 'these',\n",
       " 'such',\n",
       " 'mine',\n",
       " 'always',\n",
       " 'been',\n",
       " 'how',\n",
       " 'from',\n",
       " 'full',\n",
       " 'they',\n",
       " 'somehow',\n",
       " 'system',\n",
       " 'cant',\n",
       " 'eleven',\n",
       " 'sometime',\n",
       " 'them',\n",
       " 'else',\n",
       " 'much',\n",
       " 'several',\n",
       " 'more',\n",
       " 'yourselves',\n",
       " 'others',\n",
       " 'same',\n",
       " 'eg',\n",
       " 'move',\n",
       " 'rather',\n",
       " 'being',\n",
       " 'ever',\n",
       " 'de',\n",
       " 'via',\n",
       " 'a',\n",
       " 'her',\n",
       " 'last',\n",
       " 'when',\n",
       " 'becomes',\n",
       " 'elsewhere',\n",
       " 'his',\n",
       " 'together',\n",
       " 'amongst',\n",
       " 'thereupon',\n",
       " 'someone',\n",
       " 'among',\n",
       " 'something',\n",
       " 'who',\n",
       " 'least',\n",
       " 'fill',\n",
       " 'can',\n",
       " 'toward',\n",
       " 'by',\n",
       " 'again',\n",
       " 'fifty',\n",
       " 'give',\n",
       " 'front',\n",
       " 'both',\n",
       " 'co',\n",
       " 'yet',\n",
       " 'above',\n",
       " 'than',\n",
       " 'everyone',\n",
       " 'sincere',\n",
       " 'made',\n",
       " 'herein',\n",
       " 'became',\n",
       " 'however',\n",
       " 'between',\n",
       " 'six',\n",
       " 'some',\n",
       " 'may',\n",
       " 'whereas',\n",
       " 'due',\n",
       " 'nine',\n",
       " 'thru',\n",
       " 'onto',\n",
       " 'everywhere',\n",
       " 'first',\n",
       " 'myself',\n",
       " 'call',\n",
       " 'hundred',\n",
       " 'nothing',\n",
       " 'perhaps',\n",
       " 'bottom',\n",
       " 'empty',\n",
       " 'hasnt',\n",
       " 'an',\n",
       " 'formerly',\n",
       " 'get',\n",
       " 'though',\n",
       " 'bill',\n",
       " 'has',\n",
       " 'become',\n",
       " 'fifteen',\n",
       " 'across',\n",
       " 'ie',\n",
       " 'cannot',\n",
       " 'although',\n",
       " 'until',\n",
       " 'describe',\n",
       " 'besides',\n",
       " 'meanwhile',\n",
       " 'as',\n",
       " 'serious',\n",
       " 'no',\n",
       " 'out',\n",
       " 'then',\n",
       " 'very',\n",
       " 'themselves',\n",
       " 'seems',\n",
       " 'hereby',\n",
       " 'about',\n",
       " 'beforehand',\n",
       " 'be',\n",
       " 'mill',\n",
       " 'interest',\n",
       " 'part',\n",
       " 'whence',\n",
       " 'towards',\n",
       " 'its',\n",
       " 'most',\n",
       " 'down',\n",
       " 'each',\n",
       " 'whom',\n",
       " 'afterwards',\n",
       " 'wherever',\n",
       " 'whither',\n",
       " 'also',\n",
       " 'are',\n",
       " 'thus',\n",
       " 'whenever',\n",
       " 'have',\n",
       " 'even',\n",
       " 'nobody',\n",
       " 'why',\n",
       " 'detail',\n",
       " 'our',\n",
       " 'next',\n",
       " 'there',\n",
       " 'con',\n",
       " 're',\n",
       " 'go',\n",
       " 'that',\n",
       " 'your',\n",
       " 'please',\n",
       " 'do',\n",
       " 'keep',\n",
       " 'at',\n",
       " 'put',\n",
       " 'anywhere',\n",
       " 'whatever',\n",
       " 'could',\n",
       " 'well',\n",
       " 'former',\n",
       " 'around',\n",
       " 'with',\n",
       " 'was',\n",
       " 'five',\n",
       " 'since',\n",
       " 'already',\n",
       " 'every',\n",
       " 'name',\n",
       " 'none',\n",
       " 'never',\n",
       " 'somewhere',\n",
       " 'him',\n",
       " 'therefore',\n",
       " 'through',\n",
       " 'over',\n",
       " 'thereby',\n",
       " 'couldnt',\n",
       " 'thick',\n",
       " 'into',\n",
       " 'hers',\n",
       " 'either',\n",
       " 'indeed',\n",
       " 'twenty',\n",
       " 'seemed',\n",
       " 'show',\n",
       " 'whereby',\n",
       " 'top',\n",
       " 'too',\n",
       " 'you',\n",
       " 'latterly',\n",
       " 'fire',\n",
       " 'might',\n",
       " 'amoungst',\n",
       " 'itself',\n",
       " 'becoming',\n",
       " 'neither',\n",
       " 'here',\n",
       " 'after',\n",
       " 'which',\n",
       " 'side',\n",
       " 'so',\n",
       " 'or',\n",
       " 'etc',\n",
       " 'ourselves',\n",
       " 'two',\n",
       " 'hence',\n",
       " 'ltd',\n",
       " 'few',\n",
       " 'is',\n",
       " 'within',\n",
       " 'inc',\n",
       " 'whether',\n",
       " 'below',\n",
       " 'own',\n",
       " 'latter',\n",
       " 'along',\n",
       " 'of',\n",
       " 'sixty',\n",
       " 'but',\n",
       " 'everything',\n",
       " 'before',\n",
       " 'against',\n",
       " 'anything',\n",
       " 'thereafter',\n",
       " 'it',\n",
       " 'and',\n",
       " 'while',\n",
       " 'nor',\n",
       " 'otherwise',\n",
       " 'namely',\n",
       " 'nowhere',\n",
       " 'three',\n",
       " 'their',\n",
       " 'mostly',\n",
       " 'take',\n",
       " 'anyone',\n",
       " 'what',\n",
       " 'herself',\n",
       " 'will',\n",
       " 'during',\n",
       " 'another',\n",
       " 'he',\n",
       " 'find',\n",
       " 'only',\n",
       " 'throughout',\n",
       " 'us',\n",
       " 'one',\n",
       " 'amount',\n",
       " 'noone',\n",
       " 'whole',\n",
       " 'four',\n",
       " 'nevertheless',\n",
       " 'we',\n",
       " 'beside',\n",
       " 'moreover',\n",
       " 'on',\n",
       " 'off',\n",
       " 'anyhow',\n",
       " 'whoever',\n",
       " 'not',\n",
       " 'less',\n",
       " 'once',\n",
       " 'beyond',\n",
       " 'if',\n",
       " 'she',\n",
       " 'seeming',\n",
       " 'under',\n",
       " 'would',\n",
       " 'hereafter',\n",
       " 'upon',\n",
       " 'thin',\n",
       " 'further',\n",
       " 'whereafter',\n",
       " 'many']"
      ]
     },
     "execution_count": 50,
     "metadata": {},
     "output_type": "execute_result"
    }
   ],
   "source": [
    "v_test = CountVectorizer(stop_words='english')\n",
    "original_stop_words = list(v_test.get_stop_words())\n",
    "original_stop_words"
   ]
  },
  {
   "cell_type": "code",
   "execution_count": 51,
   "id": "fe74e996",
   "metadata": {},
   "outputs": [
    {
     "data": {
      "text/plain": [
       "318"
      ]
     },
     "execution_count": 51,
     "metadata": {},
     "output_type": "execute_result"
    }
   ],
   "source": [
    "len(original_stop_words)"
   ]
  },
  {
   "cell_type": "code",
   "execution_count": 69,
   "id": "6a17bc22",
   "metadata": {},
   "outputs": [
    {
     "data": {
      "text/plain": [
       "35"
      ]
     },
     "execution_count": 69,
     "metadata": {},
     "output_type": "execute_result"
    }
   ],
   "source": [
    "words_to_keep = ['must', 'without', 'cry', 'seem', 'should', \"shouldn't\", \"often\", 'sometimes', 'except', 'alone',\n",
    "                \"always\", \"full\", \"cant\", 'last', \"sincere\", \"bottom\", \"empty\", \"hasnt\", \"cannot\", \"can\", \"no\", \n",
    "                 \"seems\", \"most\", \"least\", \"please\", \"anywhere\", \"never\", \"neither\", \"bottom\", \"top\", \"not\", \"less\",\n",
    "                \"nowhere\", \"nor\", \"done\"]\n",
    "len(words_to_keep)"
   ]
  },
  {
   "cell_type": "code",
   "execution_count": 71,
   "id": "beab9951",
   "metadata": {},
   "outputs": [
    {
     "data": {
      "text/plain": [
       "285"
      ]
     },
     "execution_count": 71,
     "metadata": {},
     "output_type": "execute_result"
    }
   ],
   "source": [
    "# Some words don't show up in the stop_word list\n",
    "new_stop_words = [word for word in original_stop_words if word not in words_to_keep]\n",
    "len(new_stop_words)"
   ]
  },
  {
   "cell_type": "markdown",
   "id": "af4502da",
   "metadata": {},
   "source": [
    "We will create another NB model that incorporates our semi-curated stop words list."
   ]
  },
  {
   "cell_type": "code",
   "execution_count": 72,
   "id": "067a4797",
   "metadata": {},
   "outputs": [],
   "source": [
    "cv_new_stop=CountVectorizer(stop_words=new_stop_words)\n",
    "X_train_vector_data = cv_new_stop.fit_transform(X_train)\n",
    "X_test_vector_data = cv_new_stop.transform(X_test)"
   ]
  },
  {
   "cell_type": "code",
   "execution_count": 73,
   "id": "63edbc3f",
   "metadata": {},
   "outputs": [
    {
     "data": {
      "text/plain": [
       "MultinomialNB()"
      ]
     },
     "execution_count": 73,
     "metadata": {},
     "output_type": "execute_result"
    }
   ],
   "source": [
    "# multinomial naive bayes\n",
    "mnb_new_stop = MultinomialNB()\n",
    "mnb_new_stop.fit(X_train_vector_data, y_train)"
   ]
  },
  {
   "cell_type": "code",
   "execution_count": 74,
   "id": "b1fec7d0",
   "metadata": {},
   "outputs": [],
   "source": [
    "y_pred = mnb_new_stop.predict(X_test_vector_data)"
   ]
  },
  {
   "cell_type": "code",
   "execution_count": 75,
   "id": "4281534f",
   "metadata": {},
   "outputs": [
    {
     "data": {
      "text/plain": [
       "0.5461666666666667"
      ]
     },
     "execution_count": 75,
     "metadata": {},
     "output_type": "execute_result"
    }
   ],
   "source": [
    "accuracy = accuracy_score(y_test, y_pred)\n",
    "accuracy"
   ]
  },
  {
   "cell_type": "code",
   "execution_count": 76,
   "id": "7729e2e9",
   "metadata": {},
   "outputs": [
    {
     "name": "stdout",
     "output_type": "stream",
     "text": [
      "              precision    recall  f1-score   support\n",
      "\n",
      "           1       0.66      0.68      0.67      2361\n",
      "           2       0.45      0.43      0.44      2361\n",
      "           3       0.47      0.48      0.47      2451\n",
      "           4       0.47      0.48      0.47      2353\n",
      "           5       0.68      0.66      0.67      2474\n",
      "\n",
      "    accuracy                           0.55     12000\n",
      "   macro avg       0.55      0.55      0.55     12000\n",
      "weighted avg       0.55      0.55      0.55     12000\n",
      "\n"
     ]
    }
   ],
   "source": [
    "print(classification_report(y_test, y_pred))"
   ]
  },
  {
   "cell_type": "markdown",
   "id": "8ff5d3ab",
   "metadata": {},
   "source": [
    "There was slight improvement when we removed some words from the stop_words list, however we achieved the highest accuracy scores when there wasn't a stopword list."
   ]
  },
  {
   "cell_type": "code",
   "execution_count": 77,
   "id": "1918353a",
   "metadata": {},
   "outputs": [],
   "source": [
    "from sklearn.feature_extraction.text import TfidfVectorizer\n",
    "\n",
    "tfidf = TfidfVectorizer()\n",
    "X_train_tfidf = tfidf.fit_transform(X_train)\n",
    "X_test_tfidf = tfidf.transform(X_test)"
   ]
  },
  {
   "cell_type": "code",
   "execution_count": 78,
   "id": "9b74b1dd",
   "metadata": {},
   "outputs": [
    {
     "data": {
      "text/plain": [
       "MultinomialNB()"
      ]
     },
     "execution_count": 78,
     "metadata": {},
     "output_type": "execute_result"
    }
   ],
   "source": [
    "# training the model with tf_idf vectors\n",
    "mnb_tfidf = MultinomialNB()\n",
    "mnb_tfidf.fit(X_train_tfidf, y_train)"
   ]
  },
  {
   "cell_type": "code",
   "execution_count": 79,
   "id": "416dfff9",
   "metadata": {},
   "outputs": [],
   "source": [
    "y_pred_tfidf = mnb_tfidf.predict(X_test_tfidf)\n",
    "acc = accuracy_score(y_test, y_pred_tfidf)\n",
    "cls_rep = classification_report(y_test, y_pred_tfidf)"
   ]
  },
  {
   "cell_type": "code",
   "execution_count": 80,
   "id": "cac67e87",
   "metadata": {},
   "outputs": [
    {
     "data": {
      "text/plain": [
       "0.53275"
      ]
     },
     "execution_count": 80,
     "metadata": {},
     "output_type": "execute_result"
    }
   ],
   "source": [
    "acc"
   ]
  },
  {
   "cell_type": "code",
   "execution_count": 82,
   "id": "ace21988",
   "metadata": {},
   "outputs": [
    {
     "name": "stdout",
     "output_type": "stream",
     "text": [
      "              precision    recall  f1-score   support\n",
      "\n",
      "           1       0.64      0.68      0.66      2361\n",
      "           2       0.43      0.49      0.46      2361\n",
      "           3       0.46      0.48      0.47      2451\n",
      "           4       0.46      0.51      0.48      2353\n",
      "           5       0.74      0.52      0.61      2474\n",
      "\n",
      "    accuracy                           0.53     12000\n",
      "   macro avg       0.55      0.53      0.54     12000\n",
      "weighted avg       0.55      0.53      0.54     12000\n",
      "\n"
     ]
    }
   ],
   "source": [
    "print(cls_rep)"
   ]
  },
  {
   "cell_type": "code",
   "execution_count": 86,
   "id": "656d7db0",
   "metadata": {},
   "outputs": [
    {
     "data": {
      "text/html": [
       "<div>\n",
       "<style scoped>\n",
       "    .dataframe tbody tr th:only-of-type {\n",
       "        vertical-align: middle;\n",
       "    }\n",
       "\n",
       "    .dataframe tbody tr th {\n",
       "        vertical-align: top;\n",
       "    }\n",
       "\n",
       "    .dataframe thead th {\n",
       "        text-align: right;\n",
       "    }\n",
       "</style>\n",
       "<table border=\"1\" class=\"dataframe\">\n",
       "  <thead>\n",
       "    <tr style=\"text-align: right;\">\n",
       "      <th></th>\n",
       "      <th>text</th>\n",
       "      <th>useful</th>\n",
       "      <th>funny</th>\n",
       "      <th>cool</th>\n",
       "      <th>stars</th>\n",
       "    </tr>\n",
       "  </thead>\n",
       "  <tbody>\n",
       "    <tr>\n",
       "      <th>163182</th>\n",
       "      <td>We had a 35 min. wait, but got drinks at the b...</td>\n",
       "      <td>0</td>\n",
       "      <td>0</td>\n",
       "      <td>0</td>\n",
       "      <td>2</td>\n",
       "    </tr>\n",
       "    <tr>\n",
       "      <th>60131</th>\n",
       "      <td>I recommend the following plates:\\n-philly che...</td>\n",
       "      <td>1</td>\n",
       "      <td>0</td>\n",
       "      <td>2</td>\n",
       "      <td>4</td>\n",
       "    </tr>\n",
       "    <tr>\n",
       "      <th>156337</th>\n",
       "      <td>Curry fried chicken is the best! I am not a fa...</td>\n",
       "      <td>0</td>\n",
       "      <td>0</td>\n",
       "      <td>0</td>\n",
       "      <td>4</td>\n",
       "    </tr>\n",
       "    <tr>\n",
       "      <th>37149</th>\n",
       "      <td>Hi! My husband and I typically enjoy our time ...</td>\n",
       "      <td>0</td>\n",
       "      <td>0</td>\n",
       "      <td>0</td>\n",
       "      <td>1</td>\n",
       "    </tr>\n",
       "    <tr>\n",
       "      <th>101252</th>\n",
       "      <td>RUDE! Arrived at 10AM as they opened for Pride...</td>\n",
       "      <td>5</td>\n",
       "      <td>3</td>\n",
       "      <td>2</td>\n",
       "      <td>1</td>\n",
       "    </tr>\n",
       "  </tbody>\n",
       "</table>\n",
       "</div>"
      ],
      "text/plain": [
       "                                                     text  useful  funny  \\\n",
       "163182  We had a 35 min. wait, but got drinks at the b...       0      0   \n",
       "60131   I recommend the following plates:\\n-philly che...       1      0   \n",
       "156337  Curry fried chicken is the best! I am not a fa...       0      0   \n",
       "37149   Hi! My husband and I typically enjoy our time ...       0      0   \n",
       "101252  RUDE! Arrived at 10AM as they opened for Pride...       5      3   \n",
       "\n",
       "        cool  stars  \n",
       "163182     0      2  \n",
       "60131      2      4  \n",
       "156337     0      4  \n",
       "37149      0      1  \n",
       "101252     2      1  "
      ]
     },
     "execution_count": 86,
     "metadata": {},
     "output_type": "execute_result"
    }
   ],
   "source": [
    "lin_df = df[['text', 'useful', 'funny', 'cool', 'stars']]\n",
    "lin_df.head()"
   ]
  },
  {
   "cell_type": "code",
   "execution_count": 88,
   "id": "68bd71be",
   "metadata": {},
   "outputs": [
    {
     "name": "stderr",
     "output_type": "stream",
     "text": [
      "[nltk_data] Downloading package punkt to\n",
      "[nltk_data]     /Users/timcrawley/nltk_data...\n",
      "[nltk_data]   Unzipping tokenizers/punkt.zip.\n",
      "/var/folders/2r/9m_651yx0d10w_ds43wsr1v40000gn/T/ipykernel_39411/237146700.py:5: SettingWithCopyWarning: \n",
      "A value is trying to be set on a copy of a slice from a DataFrame.\n",
      "Try using .loc[row_indexer,col_indexer] = value instead\n",
      "\n",
      "See the caveats in the documentation: https://pandas.pydata.org/pandas-docs/stable/user_guide/indexing.html#returning-a-view-versus-a-copy\n",
      "  lin_df['text_tokens'] = lin_df['text'].apply(word_tokenize)\n"
     ]
    },
    {
     "data": {
      "text/html": [
       "<div>\n",
       "<style scoped>\n",
       "    .dataframe tbody tr th:only-of-type {\n",
       "        vertical-align: middle;\n",
       "    }\n",
       "\n",
       "    .dataframe tbody tr th {\n",
       "        vertical-align: top;\n",
       "    }\n",
       "\n",
       "    .dataframe thead th {\n",
       "        text-align: right;\n",
       "    }\n",
       "</style>\n",
       "<table border=\"1\" class=\"dataframe\">\n",
       "  <thead>\n",
       "    <tr style=\"text-align: right;\">\n",
       "      <th></th>\n",
       "      <th>text</th>\n",
       "      <th>useful</th>\n",
       "      <th>funny</th>\n",
       "      <th>cool</th>\n",
       "      <th>stars</th>\n",
       "      <th>text_tokens</th>\n",
       "    </tr>\n",
       "  </thead>\n",
       "  <tbody>\n",
       "    <tr>\n",
       "      <th>163182</th>\n",
       "      <td>We had a 35 min. wait, but got drinks at the b...</td>\n",
       "      <td>0</td>\n",
       "      <td>0</td>\n",
       "      <td>0</td>\n",
       "      <td>2</td>\n",
       "      <td>[We, had, a, 35, min, ., wait, ,, but, got, dr...</td>\n",
       "    </tr>\n",
       "    <tr>\n",
       "      <th>60131</th>\n",
       "      <td>I recommend the following plates:\\n-philly che...</td>\n",
       "      <td>1</td>\n",
       "      <td>0</td>\n",
       "      <td>2</td>\n",
       "      <td>4</td>\n",
       "      <td>[I, recommend, the, following, plates, :, -phi...</td>\n",
       "    </tr>\n",
       "    <tr>\n",
       "      <th>156337</th>\n",
       "      <td>Curry fried chicken is the best! I am not a fa...</td>\n",
       "      <td>0</td>\n",
       "      <td>0</td>\n",
       "      <td>0</td>\n",
       "      <td>4</td>\n",
       "      <td>[Curry, fried, chicken, is, the, best, !, I, a...</td>\n",
       "    </tr>\n",
       "    <tr>\n",
       "      <th>37149</th>\n",
       "      <td>Hi! My husband and I typically enjoy our time ...</td>\n",
       "      <td>0</td>\n",
       "      <td>0</td>\n",
       "      <td>0</td>\n",
       "      <td>1</td>\n",
       "      <td>[Hi, !, My, husband, and, I, typically, enjoy,...</td>\n",
       "    </tr>\n",
       "    <tr>\n",
       "      <th>101252</th>\n",
       "      <td>RUDE! Arrived at 10AM as they opened for Pride...</td>\n",
       "      <td>5</td>\n",
       "      <td>3</td>\n",
       "      <td>2</td>\n",
       "      <td>1</td>\n",
       "      <td>[RUDE, !, Arrived, at, 10AM, as, they, opened,...</td>\n",
       "    </tr>\n",
       "  </tbody>\n",
       "</table>\n",
       "</div>"
      ],
      "text/plain": [
       "                                                     text  useful  funny  \\\n",
       "163182  We had a 35 min. wait, but got drinks at the b...       0      0   \n",
       "60131   I recommend the following plates:\\n-philly che...       1      0   \n",
       "156337  Curry fried chicken is the best! I am not a fa...       0      0   \n",
       "37149   Hi! My husband and I typically enjoy our time ...       0      0   \n",
       "101252  RUDE! Arrived at 10AM as they opened for Pride...       5      3   \n",
       "\n",
       "        cool  stars                                        text_tokens  \n",
       "163182     0      2  [We, had, a, 35, min, ., wait, ,, but, got, dr...  \n",
       "60131      2      4  [I, recommend, the, following, plates, :, -phi...  \n",
       "156337     0      4  [Curry, fried, chicken, is, the, best, !, I, a...  \n",
       "37149      0      1  [Hi, !, My, husband, and, I, typically, enjoy,...  \n",
       "101252     2      1  [RUDE, !, Arrived, at, 10AM, as, they, opened,...  "
      ]
     },
     "execution_count": 88,
     "metadata": {},
     "output_type": "execute_result"
    }
   ],
   "source": [
    "import nltk\n",
    "from nltk.tokenize import word_tokenize\n",
    "nltk.download('punkt')\n",
    "\n",
    "lin_df['text_tokens'] = lin_df['text'].apply(word_tokenize)\n",
    "lin_df.head()"
   ]
  },
  {
   "cell_type": "code",
   "execution_count": 89,
   "id": "de68e31a",
   "metadata": {},
   "outputs": [
    {
     "name": "stderr",
     "output_type": "stream",
     "text": [
      "/var/folders/2r/9m_651yx0d10w_ds43wsr1v40000gn/T/ipykernel_39411/1901438789.py:2: SettingWithCopyWarning: \n",
      "A value is trying to be set on a copy of a slice from a DataFrame.\n",
      "Try using .loc[row_indexer,col_indexer] = value instead\n",
      "\n",
      "See the caveats in the documentation: https://pandas.pydata.org/pandas-docs/stable/user_guide/indexing.html#returning-a-view-versus-a-copy\n",
      "  lin_df['word_count'] = lin_df['text_tokens'].apply(lambda x: len(x))\n"
     ]
    },
    {
     "data": {
      "text/html": [
       "<div>\n",
       "<style scoped>\n",
       "    .dataframe tbody tr th:only-of-type {\n",
       "        vertical-align: middle;\n",
       "    }\n",
       "\n",
       "    .dataframe tbody tr th {\n",
       "        vertical-align: top;\n",
       "    }\n",
       "\n",
       "    .dataframe thead th {\n",
       "        text-align: right;\n",
       "    }\n",
       "</style>\n",
       "<table border=\"1\" class=\"dataframe\">\n",
       "  <thead>\n",
       "    <tr style=\"text-align: right;\">\n",
       "      <th></th>\n",
       "      <th>text</th>\n",
       "      <th>useful</th>\n",
       "      <th>funny</th>\n",
       "      <th>cool</th>\n",
       "      <th>stars</th>\n",
       "      <th>text_tokens</th>\n",
       "      <th>word_count</th>\n",
       "    </tr>\n",
       "  </thead>\n",
       "  <tbody>\n",
       "    <tr>\n",
       "      <th>163182</th>\n",
       "      <td>We had a 35 min. wait, but got drinks at the b...</td>\n",
       "      <td>0</td>\n",
       "      <td>0</td>\n",
       "      <td>0</td>\n",
       "      <td>2</td>\n",
       "      <td>[We, had, a, 35, min, ., wait, ,, but, got, dr...</td>\n",
       "      <td>132</td>\n",
       "    </tr>\n",
       "    <tr>\n",
       "      <th>60131</th>\n",
       "      <td>I recommend the following plates:\\n-philly che...</td>\n",
       "      <td>1</td>\n",
       "      <td>0</td>\n",
       "      <td>2</td>\n",
       "      <td>4</td>\n",
       "      <td>[I, recommend, the, following, plates, :, -phi...</td>\n",
       "      <td>52</td>\n",
       "    </tr>\n",
       "    <tr>\n",
       "      <th>156337</th>\n",
       "      <td>Curry fried chicken is the best! I am not a fa...</td>\n",
       "      <td>0</td>\n",
       "      <td>0</td>\n",
       "      <td>0</td>\n",
       "      <td>4</td>\n",
       "      <td>[Curry, fried, chicken, is, the, best, !, I, a...</td>\n",
       "      <td>22</td>\n",
       "    </tr>\n",
       "    <tr>\n",
       "      <th>37149</th>\n",
       "      <td>Hi! My husband and I typically enjoy our time ...</td>\n",
       "      <td>0</td>\n",
       "      <td>0</td>\n",
       "      <td>0</td>\n",
       "      <td>1</td>\n",
       "      <td>[Hi, !, My, husband, and, I, typically, enjoy,...</td>\n",
       "      <td>329</td>\n",
       "    </tr>\n",
       "    <tr>\n",
       "      <th>101252</th>\n",
       "      <td>RUDE! Arrived at 10AM as they opened for Pride...</td>\n",
       "      <td>5</td>\n",
       "      <td>3</td>\n",
       "      <td>2</td>\n",
       "      <td>1</td>\n",
       "      <td>[RUDE, !, Arrived, at, 10AM, as, they, opened,...</td>\n",
       "      <td>71</td>\n",
       "    </tr>\n",
       "  </tbody>\n",
       "</table>\n",
       "</div>"
      ],
      "text/plain": [
       "                                                     text  useful  funny  \\\n",
       "163182  We had a 35 min. wait, but got drinks at the b...       0      0   \n",
       "60131   I recommend the following plates:\\n-philly che...       1      0   \n",
       "156337  Curry fried chicken is the best! I am not a fa...       0      0   \n",
       "37149   Hi! My husband and I typically enjoy our time ...       0      0   \n",
       "101252  RUDE! Arrived at 10AM as they opened for Pride...       5      3   \n",
       "\n",
       "        cool  stars                                        text_tokens  \\\n",
       "163182     0      2  [We, had, a, 35, min, ., wait, ,, but, got, dr...   \n",
       "60131      2      4  [I, recommend, the, following, plates, :, -phi...   \n",
       "156337     0      4  [Curry, fried, chicken, is, the, best, !, I, a...   \n",
       "37149      0      1  [Hi, !, My, husband, and, I, typically, enjoy,...   \n",
       "101252     2      1  [RUDE, !, Arrived, at, 10AM, as, they, opened,...   \n",
       "\n",
       "        word_count  \n",
       "163182         132  \n",
       "60131           52  \n",
       "156337          22  \n",
       "37149          329  \n",
       "101252          71  "
      ]
     },
     "execution_count": 89,
     "metadata": {},
     "output_type": "execute_result"
    }
   ],
   "source": [
    "# punct = [\",\", \".\", \"'\", \"\\\"\", \";\", \":\", \"[\", \"]\", \"{\", \"}\", \"_\", \"!\", \"?\"]\n",
    "lin_df['word_count'] = lin_df['text_tokens'].apply(lambda x: len(x))\n",
    "lin_df.head()"
   ]
  },
  {
   "cell_type": "code",
   "execution_count": 93,
   "id": "e711311c",
   "metadata": {},
   "outputs": [
    {
     "data": {
      "text/plain": [
       "0"
      ]
     },
     "execution_count": 93,
     "metadata": {},
     "output_type": "execute_result"
    }
   ],
   "source": [
    "len([x for x in lin_df.iloc[0]['text_tokens'] if x.lower() in [\"good\", \"great\", \"awesome\", \"excellent\"]])"
   ]
  },
  {
   "cell_type": "code",
   "execution_count": 95,
   "id": "658d3076",
   "metadata": {},
   "outputs": [
    {
     "data": {
      "text/plain": [
       "0"
      ]
     },
     "execution_count": 95,
     "metadata": {},
     "output_type": "execute_result"
    }
   ],
   "source": [
    "len([x for x in lin_df.iloc[3]['text_tokens'] if x.lower() in [\"bad\", \"worst\", \"rude\", \"nasty\"]])"
   ]
  },
  {
   "cell_type": "code",
   "execution_count": 96,
   "id": "21a7894d",
   "metadata": {},
   "outputs": [
    {
     "data": {
      "text/plain": [
       "\"RUDE! Arrived at 10AM as they opened for Pride and were the first people there. They sat us in the pet section because my friend brought her dog. Within 3 mins they told us that we could no longer sit there because it was a VIP section and gave no other viable options. We finally had to leave. Very disheartening experience. I'll never return\""
      ]
     },
     "execution_count": 96,
     "metadata": {},
     "output_type": "execute_result"
    }
   ],
   "source": [
    "lin_df.iloc[4]['text']"
   ]
  },
  {
   "cell_type": "code",
   "execution_count": 98,
   "id": "63b035b3",
   "metadata": {},
   "outputs": [
    {
     "name": "stdout",
     "output_type": "stream",
     "text": [
      "         useful     funny      cool  word_count\n",
      "stars                                          \n",
      "1      1.055250  0.408500  0.147917  133.902750\n",
      "2      0.999083  0.342083  0.202917  143.703583\n",
      "3      0.763833  0.269583  0.299083  138.280083\n",
      "4      0.769000  0.225083  0.415417  118.487667\n",
      "5      0.647000  0.176250  0.354667   94.866667\n"
     ]
    }
   ],
   "source": [
    "grouped = lin_df.groupby(['stars'])\n",
    "mean_values = grouped.mean()\n",
    "print(mean_values)"
   ]
  },
  {
   "cell_type": "code",
   "execution_count": 99,
   "id": "24040b9a",
   "metadata": {},
   "outputs": [
    {
     "data": {
      "text/plain": [
       "1143"
      ]
     },
     "execution_count": 99,
     "metadata": {},
     "output_type": "execute_result"
    }
   ],
   "source": [
    "max(lin_df['word_count'])"
   ]
  },
  {
   "cell_type": "code",
   "execution_count": 102,
   "id": "200aa2f1",
   "metadata": {},
   "outputs": [
    {
     "data": {
      "text/html": [
       "<div>\n",
       "<style scoped>\n",
       "    .dataframe tbody tr th:only-of-type {\n",
       "        vertical-align: middle;\n",
       "    }\n",
       "\n",
       "    .dataframe tbody tr th {\n",
       "        vertical-align: top;\n",
       "    }\n",
       "\n",
       "    .dataframe thead th {\n",
       "        text-align: right;\n",
       "    }\n",
       "</style>\n",
       "<table border=\"1\" class=\"dataframe\">\n",
       "  <thead>\n",
       "    <tr style=\"text-align: right;\">\n",
       "      <th></th>\n",
       "      <th>text</th>\n",
       "      <th>useful</th>\n",
       "      <th>funny</th>\n",
       "      <th>cool</th>\n",
       "      <th>stars</th>\n",
       "      <th>text_tokens</th>\n",
       "      <th>word_count</th>\n",
       "    </tr>\n",
       "  </thead>\n",
       "  <tbody>\n",
       "    <tr>\n",
       "      <th>96593</th>\n",
       "      <td>First LOVE the concept of BFF Café, the concep...</td>\n",
       "      <td>5</td>\n",
       "      <td>4</td>\n",
       "      <td>2</td>\n",
       "      <td>2</td>\n",
       "      <td>[First, LOVE, the, concept, of, BFF, Café, ,, ...</td>\n",
       "      <td>1143</td>\n",
       "    </tr>\n",
       "  </tbody>\n",
       "</table>\n",
       "</div>"
      ],
      "text/plain": [
       "                                                    text  useful  funny  cool  \\\n",
       "96593  First LOVE the concept of BFF Café, the concep...       5      4     2   \n",
       "\n",
       "       stars                                        text_tokens  word_count  \n",
       "96593      2  [First, LOVE, the, concept, of, BFF, Café, ,, ...        1143  "
      ]
     },
     "execution_count": 102,
     "metadata": {},
     "output_type": "execute_result"
    }
   ],
   "source": [
    "lin_df[lin_df['word_count']==1143]"
   ]
  },
  {
   "cell_type": "code",
   "execution_count": null,
   "id": "8285791f",
   "metadata": {},
   "outputs": [],
   "source": []
  }
 ],
 "metadata": {
  "kernelspec": {
   "display_name": "Python 3 (ipykernel)",
   "language": "python",
   "name": "python3"
  },
  "language_info": {
   "codemirror_mode": {
    "name": "ipython",
    "version": 3
   },
   "file_extension": ".py",
   "mimetype": "text/x-python",
   "name": "python",
   "nbconvert_exporter": "python",
   "pygments_lexer": "ipython3",
   "version": "3.9.12"
  }
 },
 "nbformat": 4,
 "nbformat_minor": 5
}
