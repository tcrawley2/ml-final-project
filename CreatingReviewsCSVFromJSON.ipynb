{
 "cells": [
  {
   "cell_type": "code",
   "execution_count": 1,
   "id": "ee694913",
   "metadata": {
    "scrolled": true
   },
   "outputs": [],
   "source": [
    "import pandas as pd\n",
    "import numpy as np\n",
    "import matplotlib.pyplot as plt\n",
    "import json\n",
    "import random"
   ]
  },
  {
   "cell_type": "code",
   "execution_count": 2,
   "id": "29913af4",
   "metadata": {},
   "outputs": [],
   "source": [
    "businesses = pd.read_json(\"yelp_academic_dataset_business.json\", lines=True, orient='columns', chunksize=200000)\n",
    "reviews = pd.read_json(\"yelp_academic_dataset_review.json\", lines=True, orient='columns', chunksize=200000)"
   ]
  },
  {
   "cell_type": "code",
   "execution_count": 3,
   "id": "c852963b",
   "metadata": {},
   "outputs": [],
   "source": [
    "for business in businesses:\n",
    "    business_chunk = business\n",
    "    break\n",
    "\n",
    "for review in reviews:\n",
    "    review_chunk = review\n",
    "    break"
   ]
  },
  {
   "cell_type": "code",
   "execution_count": 4,
   "id": "a62fa801",
   "metadata": {},
   "outputs": [],
   "source": [
    "a = business_chunk[business['categories'].str.contains('Restaurant') == True]\n",
    "rev = review_chunk[review_chunk.business_id.isin(a['business_id']) == True]"
   ]
  },
  {
   "cell_type": "code",
   "execution_count": 5,
   "id": "37f571e7",
   "metadata": {},
   "outputs": [],
   "source": [
    "def equal_sample(df, target_column, sample_size):\n",
    "    grouped = df.groupby(target_column, group_keys=False)\n",
    "    sampled_df = grouped.apply(lambda x: x.sample(min(len(x), sample_size)))\n",
    "    return sampled_df"
   ]
  },
  {
   "cell_type": "code",
   "execution_count": 6,
   "id": "6c352834",
   "metadata": {},
   "outputs": [],
   "source": [
    "df = equal_sample(rev, 'stars', 12000)"
   ]
  },
  {
   "cell_type": "code",
   "execution_count": 7,
   "id": "ef6fc558",
   "metadata": {},
   "outputs": [
    {
     "data": {
      "image/png": "[encoded data removed]",
      "text/plain": [
       "<Figure size 432x288 with 1 Axes>"
      ]
     },
     "metadata": {
      "needs_background": "light"
     },
     "output_type": "display_data"
    }
   ],
   "source": [
    "plt.hist(df['stars'], range=(0.25, 5.25), edgecolor='black')\n",
    "plt.show()"
   ]
  },
  {
   "cell_type": "code",
   "execution_count": 8,
   "id": "64fde69c",
   "metadata": {},
   "outputs": [],
   "source": [
    "df = df.sample(frac=1, random_state=42)"
   ]
  },
  {
   "cell_type": "code",
   "execution_count": 9,
   "id": "fd431ba1",
   "metadata": {},
   "outputs": [],
   "source": [
    "df.to_csv('shuffled_reviews.csv', index = False, encoding='utf-8') # False: not include index"
   ]
  },
  {
   "cell_type": "code",
   "execution_count": null,
   "id": "42fdc15c",
   "metadata": {},
   "outputs": [],
   "source": []
  }
 ],
 "metadata": {
  "kernelspec": {
   "display_name": "Python 3 (ipykernel)",
   "language": "python",
   "name": "python3"
  },
  "language_info": {
   "codemirror_mode": {
    "name": "ipython",
    "version": 3
   },
   "file_extension": ".py",
   "mimetype": "text/x-python",
   "name": "python",
   "nbconvert_exporter": "python",
   "pygments_lexer": "ipython3",
   "version": "3.9.12"
  }
 },
 "nbformat": 4,
 "nbformat_minor": 5
}
