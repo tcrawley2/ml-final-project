{
 "cells": [
  {
   "cell_type": "code",
   "execution_count": 1,
   "id": "0d8647b3",
   "metadata": {},
   "outputs": [
    {
     "name": "stderr",
     "output_type": "stream",
     "text": [
      "2023-11-19 16:26:46.007504: I tensorflow/core/platform/cpu_feature_guard.cc:182] This TensorFlow binary is optimized to use available CPU instructions in performance-critical operations.\n",
      "To enable the following instructions: AVX2 FMA, in other operations, rebuild TensorFlow with the appropriate compiler flags.\n",
      "[nltk_data] Downloading package omw-1.4 to\n",
      "[nltk_data]     /Users/timcrawley/nltk_data...\n",
      "[nltk_data]   Package omw-1.4 is already up-to-date!\n"
     ]
    },
    {
     "data": {
      "text/plain": [
       "True"
      ]
     },
     "execution_count": 1,
     "metadata": {},
     "output_type": "execute_result"
    }
   ],
   "source": [
    "import tensorflow as tf\n",
    "import pandas as pd\n",
    "import numpy as np\n",
    "import matplotlib.pyplot as plt\n",
    "\n",
    "from sklearn.pipeline import Pipeline, make_pipeline\n",
    "from sklearn.feature_extraction.text import TfidfVectorizer\n",
    "from sklearn.base import BaseEstimator, ClassifierMixin\n",
    "from sklearn.model_selection import cross_val_score\n",
    "from sklearn import metrics\n",
    "from sklearn.metrics import roc_auc_score\n",
    "from sklearn.feature_extraction.text import CountVectorizer\n",
    "from sklearn.metrics import accuracy_score, classification_report, confusion_matrix\n",
    "\n",
    "from sklearn.model_selection import train_test_split\n",
    "from sklearn.preprocessing import LabelEncoder\n",
    "from tensorflow.keras.preprocessing.text import Tokenizer\n",
    "from tensorflow.keras.preprocessing.sequence import pad_sequences\n",
    "from tensorflow.keras.models import Sequential\n",
    "from tensorflow.keras.layers import Embedding, Flatten, Dense, Dropout\n",
    "\n",
    "import nltk\n",
    "from nltk.stem import WordNetLemmatizer\n",
    "from nltk.tokenize import word_tokenize\n",
    "import re\n",
    "\n",
    "from sklearn.model_selection import StratifiedKFold\n",
    "\n",
    "from keras.initializers import Constant\n",
    "\n",
    "\n",
    "nltk.download('omw-1.4')"
   ]
  },
  {
   "cell_type": "code",
   "execution_count": 2,
   "id": "56fd193d",
   "metadata": {},
   "outputs": [],
   "source": [
    "# import the data (chunksize returns jsonReader for iteration)\n",
    "businesses = pd.read_json(\"yelp_academic_dataset_business.json\", lines=True, orient='columns', chunksize=200000)\n",
    "reviews = pd.read_json(\"yelp_academic_dataset_review.json\", lines=True, orient='columns', chunksize=500000)"
   ]
  },
  {
   "cell_type": "code",
   "execution_count": 3,
   "id": "2a5a5933",
   "metadata": {},
   "outputs": [],
   "source": [
    "# read the data\n",
    "for business in businesses:\n",
    "    business_chunk = business\n",
    "    break\n",
    "\n",
    "for review in reviews:\n",
    "    review_chunk = review\n",
    "    break"
   ]
  },
  {
   "cell_type": "code",
   "execution_count": 4,
   "id": "dd52fafd",
   "metadata": {},
   "outputs": [
    {
     "data": {
      "image/png": "[encoded data removed]",
      "text/plain": [
       "<Figure size 640x480 with 1 Axes>"
      ]
     },
     "metadata": {},
     "output_type": "display_data"
    }
   ],
   "source": [
    "plt.hist(review_chunk['stars'], range=(0.5,5.5), bins=5, edgecolor=\"black\")\n",
    "plt.show()"
   ]
  },
  {
   "cell_type": "code",
   "execution_count": 5,
   "id": "1c17e689",
   "metadata": {},
   "outputs": [],
   "source": [
    "# To create a df of reviews of Restaurants\n",
    "restaurants = business_chunk[business['categories'].str.contains('Restaurant') == True]\n",
    "df = review_chunk[review_chunk.business_id.isin(restaurants['business_id']) == True]"
   ]
  },
  {
   "cell_type": "code",
   "execution_count": 12,
   "id": "f51cfd32",
   "metadata": {},
   "outputs": [],
   "source": [
    "def clean_and_tokenize(string):\n",
    "    lem = WordNetLemmatizer()\n",
    "    return \" \".join([lem.lemmatize(word.lower()) for word in word_tokenize(re.sub(r\"[^\\w\\s]\", \"\", string))])"
   ]
  },
  {
   "cell_type": "code",
   "execution_count": 10,
   "id": "83396fbd",
   "metadata": {},
   "outputs": [],
   "source": [
    "cols_to_drop = ['review_id', 'user_id', 'business_id', 'useful', 'funny', 'cool', 'date']\n",
    "df_data = df.copy()\n",
    "df_data.drop(cols_to_drop, axis = 1, inplace = True) "
   ]
  },
  {
   "cell_type": "code",
   "execution_count": 11,
   "id": "0f5010e6",
   "metadata": {},
   "outputs": [
    {
     "data": {
      "text/html": [
       "<div>\n",
       "<style scoped>\n",
       "    .dataframe tbody tr th:only-of-type {\n",
       "        vertical-align: middle;\n",
       "    }\n",
       "\n",
       "    .dataframe tbody tr th {\n",
       "        vertical-align: top;\n",
       "    }\n",
       "\n",
       "    .dataframe thead th {\n",
       "        text-align: right;\n",
       "    }\n",
       "</style>\n",
       "<table border=\"1\" class=\"dataframe\">\n",
       "  <thead>\n",
       "    <tr style=\"text-align: right;\">\n",
       "      <th></th>\n",
       "      <th>stars</th>\n",
       "      <th>text</th>\n",
       "    </tr>\n",
       "  </thead>\n",
       "  <tbody>\n",
       "    <tr>\n",
       "      <th>0</th>\n",
       "      <td>3</td>\n",
       "      <td>If you decide to eat here, just be aware it is...</td>\n",
       "    </tr>\n",
       "    <tr>\n",
       "      <th>2</th>\n",
       "      <td>3</td>\n",
       "      <td>Family diner. Had the buffet. Eclectic assortm...</td>\n",
       "    </tr>\n",
       "    <tr>\n",
       "      <th>3</th>\n",
       "      <td>5</td>\n",
       "      <td>Wow!  Yummy, different,  delicious.   Our favo...</td>\n",
       "    </tr>\n",
       "    <tr>\n",
       "      <th>4</th>\n",
       "      <td>4</td>\n",
       "      <td>Cute interior and owner (?) gave us tour of up...</td>\n",
       "    </tr>\n",
       "    <tr>\n",
       "      <th>5</th>\n",
       "      <td>1</td>\n",
       "      <td>I am a long term frequent customer of this est...</td>\n",
       "    </tr>\n",
       "  </tbody>\n",
       "</table>\n",
       "</div>"
      ],
      "text/plain": [
       "   stars                                               text\n",
       "0      3  If you decide to eat here, just be aware it is...\n",
       "2      3  Family diner. Had the buffet. Eclectic assortm...\n",
       "3      5  Wow!  Yummy, different,  delicious.   Our favo...\n",
       "4      4  Cute interior and owner (?) gave us tour of up...\n",
       "5      1  I am a long term frequent customer of this est..."
      ]
     },
     "execution_count": 11,
     "metadata": {},
     "output_type": "execute_result"
    }
   ],
   "source": [
    "df_data.head()"
   ]
  },
  {
   "cell_type": "code",
   "execution_count": 91,
   "id": "ebddc0da",
   "metadata": {},
   "outputs": [
    {
     "data": {
      "image/png": "[encoded data removed]",
      "text/plain": [
       "<Figure size 640x480 with 1 Axes>"
      ]
     },
     "metadata": {},
     "output_type": "display_data"
    }
   ],
   "source": [
    "plt.hist(df_data['stars'], range=(0.5,5.5), bins=5, edgecolor=\"black\")\n",
    "plt.title(\"Distribution of reviews by stars\")\n",
    "plt.xlabel(\"Stars\")\n",
    "plt.ylabel(\"Count\")\n",
    "plt.show()"
   ]
  },
  {
   "cell_type": "code",
   "execution_count": 13,
   "id": "1b8f5143",
   "metadata": {},
   "outputs": [],
   "source": [
    "df_data[\"lemmatized_text\"] = df_data[\"text\"].apply(clean_and_tokenize)"
   ]
  },
  {
   "cell_type": "code",
   "execution_count": 14,
   "id": "46898af1",
   "metadata": {},
   "outputs": [
    {
     "data": {
      "text/html": [
       "<div>\n",
       "<style scoped>\n",
       "    .dataframe tbody tr th:only-of-type {\n",
       "        vertical-align: middle;\n",
       "    }\n",
       "\n",
       "    .dataframe tbody tr th {\n",
       "        vertical-align: top;\n",
       "    }\n",
       "\n",
       "    .dataframe thead th {\n",
       "        text-align: right;\n",
       "    }\n",
       "</style>\n",
       "<table border=\"1\" class=\"dataframe\">\n",
       "  <thead>\n",
       "    <tr style=\"text-align: right;\">\n",
       "      <th></th>\n",
       "      <th>stars</th>\n",
       "      <th>text</th>\n",
       "      <th>lemmatized_text</th>\n",
       "    </tr>\n",
       "  </thead>\n",
       "  <tbody>\n",
       "    <tr>\n",
       "      <th>0</th>\n",
       "      <td>3</td>\n",
       "      <td>If you decide to eat here, just be aware it is...</td>\n",
       "      <td>if you decide to eat here just be aware it is ...</td>\n",
       "    </tr>\n",
       "    <tr>\n",
       "      <th>2</th>\n",
       "      <td>3</td>\n",
       "      <td>Family diner. Had the buffet. Eclectic assortm...</td>\n",
       "      <td>family diner had the buffet eclectic assortmen...</td>\n",
       "    </tr>\n",
       "    <tr>\n",
       "      <th>3</th>\n",
       "      <td>5</td>\n",
       "      <td>Wow!  Yummy, different,  delicious.   Our favo...</td>\n",
       "      <td>wow yummy different delicious our favorite is ...</td>\n",
       "    </tr>\n",
       "    <tr>\n",
       "      <th>4</th>\n",
       "      <td>4</td>\n",
       "      <td>Cute interior and owner (?) gave us tour of up...</td>\n",
       "      <td>cute interior and owner gave u tour of upcomin...</td>\n",
       "    </tr>\n",
       "    <tr>\n",
       "      <th>5</th>\n",
       "      <td>1</td>\n",
       "      <td>I am a long term frequent customer of this est...</td>\n",
       "      <td>i am a long term frequent customer of this est...</td>\n",
       "    </tr>\n",
       "  </tbody>\n",
       "</table>\n",
       "</div>"
      ],
      "text/plain": [
       "   stars                                               text  \\\n",
       "0      3  If you decide to eat here, just be aware it is...   \n",
       "2      3  Family diner. Had the buffet. Eclectic assortm...   \n",
       "3      5  Wow!  Yummy, different,  delicious.   Our favo...   \n",
       "4      4  Cute interior and owner (?) gave us tour of up...   \n",
       "5      1  I am a long term frequent customer of this est...   \n",
       "\n",
       "                                     lemmatized_text  \n",
       "0  if you decide to eat here just be aware it is ...  \n",
       "2  family diner had the buffet eclectic assortmen...  \n",
       "3  wow yummy different delicious our favorite is ...  \n",
       "4  cute interior and owner gave u tour of upcomin...  \n",
       "5  i am a long term frequent customer of this est...  "
      ]
     },
     "execution_count": 14,
     "metadata": {},
     "output_type": "execute_result"
    }
   ],
   "source": [
    "df_data.head()"
   ]
  },
  {
   "cell_type": "code",
   "execution_count": 16,
   "id": "2ee000f6",
   "metadata": {},
   "outputs": [],
   "source": [
    "# import the glove embeddings\n",
    "embedding_file = \"/Users/timcrawley/Desktop/Fall23/machinelearning/final_project/glove.twitter.27B/glove.twitter.27B.100d.txt\"\n",
    "\n",
    "# read in embeddings\n",
    "def load_glove_embeddings(embedding_file_path):\n",
    "    embeddings_index = {}\n",
    "    with open(embedding_file_path, 'r', encoding='utf-8') as file:\n",
    "        for line in file:\n",
    "            values = line.split()\n",
    "            word = values[0]\n",
    "            vector = np.asarray(values[1:], dtype='float32')\n",
    "            embeddings_index[word] = vector\n",
    "    file.close()\n",
    "    return embeddings_index\n",
    "\n",
    "# Load GloVe embeddings\n",
    "glove_embeddings = load_glove_embeddings(embedding_file)"
   ]
  },
  {
   "cell_type": "code",
   "execution_count": 21,
   "id": "0b982d0c",
   "metadata": {},
   "outputs": [],
   "source": [
    "# create the tokenizer\n",
    "tokenizer = Tokenizer(10000, oov_token='<OOV>')\n",
    "tokenizer.fit_on_texts(df_data['lemmatized_text'])"
   ]
  },
  {
   "cell_type": "code",
   "execution_count": 22,
   "id": "669e5931",
   "metadata": {},
   "outputs": [
    {
     "data": {
      "text/plain": [
       "189750"
      ]
     },
     "execution_count": 22,
     "metadata": {},
     "output_type": "execute_result"
    }
   ],
   "source": [
    "len(tokenizer.word_index) + 1"
   ]
  },
  {
   "cell_type": "code",
   "execution_count": 23,
   "id": "62454866",
   "metadata": {},
   "outputs": [],
   "source": [
    "# sequences\n",
    "sequences = tokenizer.texts_to_sequences(df_data[\"lemmatized_text\"])"
   ]
  },
  {
   "cell_type": "code",
   "execution_count": 24,
   "id": "3de67280",
   "metadata": {},
   "outputs": [],
   "source": [
    "max_sequence_length = max(len(seq) for seq in sequences)\n",
    "padded_sequences = pad_sequences(sequences, maxlen=max_sequence_length, padding='post')"
   ]
  },
  {
   "cell_type": "code",
   "execution_count": 43,
   "id": "99ea6e26",
   "metadata": {},
   "outputs": [
    {
     "name": "stdout",
     "output_type": "stream",
     "text": [
      "{'plant': 4, 'excellent': 5, 'bad': 1}\n"
     ]
    }
   ],
   "source": [
    "d = {\"plant\": 3, \"plants\": 4, \"excellent\": 5, \"bad\":1}\n",
    "l = WordNetLemmatizer()\n",
    "# word = d.pop(\"good\")\n",
    "# word\n",
    "for word in list(d.keys()):\n",
    "    value = d[word]\n",
    "    d.pop(word)\n",
    "    lemmed = l.lemmatize(word)\n",
    "    d[lemmed] = value\n",
    "    \n",
    "print(d)\n",
    "\n",
    "#for list(glove_embeddings.keys())"
   ]
  },
  {
   "cell_type": "code",
   "execution_count": 33,
   "id": "55fa9454",
   "metadata": {},
   "outputs": [],
   "source": [
    "def create_embedding_matrix(embedding_dict, word_index):\n",
    "    num_words = len(word_index) + 1\n",
    "    embedding_dim = len(list(embedding_dict.values())[0])\n",
    "    embedding_matrix = np.zeros((num_words, embedding_dim))\n",
    "    \n",
    "    for word, i in word_index.items():\n",
    "        if i < num_words:\n",
    "            emb_vec = embedding_dict.get(word)\n",
    "            if emb_vec is not None:\n",
    "                embedding_matrix[i] = emb_vec\n",
    "    \n",
    "    return embedding_matrix\n",
    "    "
   ]
  },
  {
   "cell_type": "code",
   "execution_count": 34,
   "id": "9ee72ff9",
   "metadata": {},
   "outputs": [],
   "source": [
    "embedding_matrix = create_embedding_matrix(glove_embeddings, tokenizer.word_index)"
   ]
  },
  {
   "cell_type": "code",
   "execution_count": 36,
   "id": "59231c9a",
   "metadata": {},
   "outputs": [
    {
     "data": {
      "text/plain": [
       "31"
      ]
     },
     "execution_count": 36,
     "metadata": {},
     "output_type": "execute_result"
    }
   ],
   "source": [
    "tokenizer.word_index['great']"
   ]
  },
  {
   "cell_type": "code",
   "execution_count": 44,
   "id": "33111ca3",
   "metadata": {},
   "outputs": [
    {
     "data": {
      "text/plain": [
       "array([ 1.0730e-01,  3.6058e-01,  1.1135e-01, -1.6388e-02,  2.4462e-01,\n",
       "        3.3248e-01,  1.4966e-01,  2.0867e-03, -4.8247e-01, -7.7983e-01,\n",
       "       -2.4817e-01, -1.3623e-01, -4.8742e+00, -1.2640e-01,  1.9718e-01,\n",
       "       -2.3438e-01,  3.1731e-01, -5.3766e-01, -3.3636e-01,  3.2244e-01,\n",
       "        3.4838e-01,  3.2392e-01,  1.2983e-02, -4.3842e-01, -3.5547e-02,\n",
       "        4.0794e-01, -2.9037e-01,  2.6939e-01,  2.8962e-01, -6.8695e-01,\n",
       "       -6.2053e-01,  1.0183e-01, -5.0091e-01,  2.5667e-01,  5.3475e-01,\n",
       "        5.6865e-01,  7.8983e-01, -3.8752e-01, -4.7427e-01, -4.4889e-01,\n",
       "       -3.5583e-01, -1.2018e-01, -2.3720e-02,  3.8390e-01,  4.2997e-01,\n",
       "        3.4273e-01,  2.4447e-02, -1.2669e-01,  2.9001e-01, -1.1947e-02,\n",
       "       -6.8918e-02, -4.3248e-01, -6.0337e-01, -3.2105e-01,  3.7550e-01,\n",
       "        3.6800e-01,  1.6839e-01, -3.4344e-01,  2.7393e-01, -3.5549e-01,\n",
       "        2.3686e-01, -5.3380e-01, -6.9807e-02,  5.2484e-02,  4.4660e-01,\n",
       "        2.8324e-01, -1.4695e-01, -5.5239e-01, -2.8699e-01,  4.7727e-01,\n",
       "        2.5245e-01, -1.5781e-01,  5.4323e-01,  6.0552e-01,  3.8145e-01,\n",
       "       -6.2793e-02,  3.2522e-01, -8.0542e-02, -3.6301e-01, -1.1220e-01,\n",
       "        2.4059e+00,  5.7208e-01,  7.6027e-02,  4.8681e-01,  7.2263e-01,\n",
       "        6.0662e-01,  3.1884e-01,  6.7304e-02,  9.9263e-02, -2.7178e-02,\n",
       "        1.6682e-01,  1.0539e-02,  5.9838e-03, -2.0051e-01, -4.5094e-02,\n",
       "       -4.2844e-01,  5.5655e-01,  1.4933e-01, -3.0865e-01, -5.5198e-01],\n",
       "      dtype=float32)"
      ]
     },
     "execution_count": 44,
     "metadata": {},
     "output_type": "execute_result"
    }
   ],
   "source": [
    "glove_embeddings['great']"
   ]
  },
  {
   "cell_type": "code",
   "execution_count": 76,
   "id": "b6655d3e",
   "metadata": {},
   "outputs": [
    {
     "data": {
      "text/plain": [
       "array([ 1.07299998e-01,  3.60579997e-01,  1.11350000e-01, -1.63880009e-02,\n",
       "        2.44619995e-01,  3.32480013e-01,  1.49660006e-01,  2.08669994e-03,\n",
       "       -4.82470006e-01, -7.79829979e-01, -2.48170003e-01, -1.36230007e-01,\n",
       "       -4.87419987e+00, -1.26399994e-01,  1.97180003e-01, -2.34380007e-01,\n",
       "        3.17310005e-01, -5.37660003e-01, -3.36360008e-01,  3.22439998e-01,\n",
       "        3.48379999e-01,  3.23920012e-01,  1.29829999e-02, -4.38419998e-01,\n",
       "       -3.55469994e-02,  4.07940000e-01, -2.90369987e-01,  2.69389987e-01,\n",
       "        2.89620012e-01, -6.86950028e-01, -6.20530009e-01,  1.01829998e-01,\n",
       "       -5.00909984e-01,  2.56669998e-01,  5.34749985e-01,  5.68650007e-01,\n",
       "        7.89830029e-01, -3.87519985e-01, -4.74269986e-01, -4.48890001e-01,\n",
       "       -3.55830014e-01, -1.20180003e-01, -2.37199999e-02,  3.83899987e-01,\n",
       "        4.29969996e-01,  3.42729986e-01,  2.44469997e-02, -1.26690000e-01,\n",
       "        2.90010005e-01, -1.19470004e-02, -6.89179972e-02, -4.32480007e-01,\n",
       "       -6.03370011e-01, -3.21049988e-01,  3.75499994e-01,  3.68000001e-01,\n",
       "        1.68390006e-01, -3.43439996e-01,  2.73930013e-01, -3.55489999e-01,\n",
       "        2.36860007e-01, -5.33800006e-01, -6.98070005e-02,  5.24839982e-02,\n",
       "        4.46599990e-01,  2.83239990e-01, -1.46950006e-01, -5.52389979e-01,\n",
       "       -2.86989987e-01,  4.77270007e-01,  2.52449989e-01, -1.57810003e-01,\n",
       "        5.43229997e-01,  6.05520010e-01,  3.81449997e-01, -6.27930015e-02,\n",
       "        3.25219989e-01, -8.05419981e-02, -3.63009989e-01, -1.12199999e-01,\n",
       "        2.40590000e+00,  5.72080016e-01,  7.60269985e-02,  4.86809999e-01,\n",
       "        7.22630024e-01,  6.06620014e-01,  3.18839997e-01,  6.73040003e-02,\n",
       "        9.92629975e-02, -2.71780007e-02,  1.66820005e-01,  1.05389999e-02,\n",
       "        5.98380016e-03, -2.00509995e-01, -4.50939983e-02, -4.28440005e-01,\n",
       "        5.56550026e-01,  1.49330005e-01, -3.08649987e-01, -5.51980019e-01])"
      ]
     },
     "execution_count": 76,
     "metadata": {},
     "output_type": "execute_result"
    }
   ],
   "source": [
    "embedding_matrix[31]"
   ]
  },
  {
   "cell_type": "code",
   "execution_count": 45,
   "id": "c7769396",
   "metadata": {},
   "outputs": [
    {
     "data": {
      "text/plain": [
       "True"
      ]
     },
     "execution_count": 45,
     "metadata": {},
     "output_type": "execute_result"
    }
   ],
   "source": [
    "(embedding_matrix[31] == glove_embeddings.get('great')).all()"
   ]
  },
  {
   "cell_type": "code",
   "execution_count": 47,
   "id": "11a0c53b",
   "metadata": {},
   "outputs": [],
   "source": [
    "model = Sequential()\n",
    "model.add(Embedding(input_dim=len(tokenizer.word_index)+1, \n",
    "                    output_dim=100, \n",
    "                    embeddings_initializer=Constant(embedding_matrix),\n",
    "                    input_length=max_sequence_length,\n",
    "                    trainable=False))\n",
    "model.add(Flatten())\n",
    "model.add(Dense(32, activation='relu'))\n",
    "model.add(Dropout(0.3))\n",
    "model.add(Dense(16, activation='relu'))\n",
    "model.add(Dropout(0.3))\n",
    "model.add(Dense(16, activation='relu'))\n",
    "model.add(Dense(5, activation='softmax'))\n",
    "\n",
    "model.compile(optimizer='adam', loss='sparse_categorical_crossentropy', metrics=['accuracy'])"
   ]
  },
  {
   "cell_type": "code",
   "execution_count": 48,
   "id": "3af4ef79",
   "metadata": {},
   "outputs": [
    {
     "data": {
      "text/html": [
       "<div>\n",
       "<style scoped>\n",
       "    .dataframe tbody tr th:only-of-type {\n",
       "        vertical-align: middle;\n",
       "    }\n",
       "\n",
       "    .dataframe tbody tr th {\n",
       "        vertical-align: top;\n",
       "    }\n",
       "\n",
       "    .dataframe thead th {\n",
       "        text-align: right;\n",
       "    }\n",
       "</style>\n",
       "<table border=\"1\" class=\"dataframe\">\n",
       "  <thead>\n",
       "    <tr style=\"text-align: right;\">\n",
       "      <th></th>\n",
       "      <th>stars</th>\n",
       "      <th>encoded_labels</th>\n",
       "    </tr>\n",
       "  </thead>\n",
       "  <tbody>\n",
       "    <tr>\n",
       "      <th>0</th>\n",
       "      <td>3</td>\n",
       "      <td>2</td>\n",
       "    </tr>\n",
       "    <tr>\n",
       "      <th>2</th>\n",
       "      <td>3</td>\n",
       "      <td>2</td>\n",
       "    </tr>\n",
       "    <tr>\n",
       "      <th>3</th>\n",
       "      <td>5</td>\n",
       "      <td>4</td>\n",
       "    </tr>\n",
       "    <tr>\n",
       "      <th>4</th>\n",
       "      <td>4</td>\n",
       "      <td>3</td>\n",
       "    </tr>\n",
       "    <tr>\n",
       "      <th>5</th>\n",
       "      <td>1</td>\n",
       "      <td>0</td>\n",
       "    </tr>\n",
       "    <tr>\n",
       "      <th>...</th>\n",
       "      <td>...</td>\n",
       "      <td>...</td>\n",
       "    </tr>\n",
       "    <tr>\n",
       "      <th>499993</th>\n",
       "      <td>4</td>\n",
       "      <td>3</td>\n",
       "    </tr>\n",
       "    <tr>\n",
       "      <th>499994</th>\n",
       "      <td>5</td>\n",
       "      <td>4</td>\n",
       "    </tr>\n",
       "    <tr>\n",
       "      <th>499997</th>\n",
       "      <td>4</td>\n",
       "      <td>3</td>\n",
       "    </tr>\n",
       "    <tr>\n",
       "      <th>499998</th>\n",
       "      <td>2</td>\n",
       "      <td>1</td>\n",
       "    </tr>\n",
       "    <tr>\n",
       "      <th>499999</th>\n",
       "      <td>5</td>\n",
       "      <td>4</td>\n",
       "    </tr>\n",
       "  </tbody>\n",
       "</table>\n",
       "<p>346460 rows × 2 columns</p>\n",
       "</div>"
      ],
      "text/plain": [
       "        stars  encoded_labels\n",
       "0           3               2\n",
       "2           3               2\n",
       "3           5               4\n",
       "4           4               3\n",
       "5           1               0\n",
       "...       ...             ...\n",
       "499993      4               3\n",
       "499994      5               4\n",
       "499997      4               3\n",
       "499998      2               1\n",
       "499999      5               4\n",
       "\n",
       "[346460 rows x 2 columns]"
      ]
     },
     "execution_count": 48,
     "metadata": {},
     "output_type": "execute_result"
    }
   ],
   "source": [
    "# encode the labels\n",
    "le = LabelEncoder()\n",
    "df_data['encoded_labels'] = le.fit_transform(df_data['stars'])\n",
    "df_data[['stars', 'encoded_labels']]"
   ]
  },
  {
   "cell_type": "code",
   "execution_count": 49,
   "id": "77abea2c",
   "metadata": {},
   "outputs": [],
   "source": [
    "X_train, X_temp, y_train, y_temp = train_test_split(padded_sequences, df_data['encoded_labels'], test_size=0.1, random_state=42)\n",
    "X_valid, X_test, y_valid, y_test = train_test_split(X_temp, y_temp, test_size=0.5, random_state=42)"
   ]
  },
  {
   "cell_type": "code",
   "execution_count": 50,
   "id": "aefc61c0",
   "metadata": {},
   "outputs": [
    {
     "name": "stdout",
     "output_type": "stream",
     "text": [
      "Epoch 1/10\n",
      "610/610 [==============================] - 95s 151ms/step - loss: 1.1890 - accuracy: 0.4757 - val_loss: 1.0881 - val_accuracy: 0.5274\n",
      "Epoch 2/10\n",
      "610/610 [==============================] - 91s 149ms/step - loss: 1.0773 - accuracy: 0.5275 - val_loss: 1.0548 - val_accuracy: 0.5422\n",
      "Epoch 3/10\n",
      "610/610 [==============================] - 80s 132ms/step - loss: 1.0340 - accuracy: 0.5452 - val_loss: 1.0434 - val_accuracy: 0.5572\n",
      "Epoch 4/10\n",
      "610/610 [==============================] - 81s 132ms/step - loss: 1.0141 - accuracy: 0.5543 - val_loss: 1.0332 - val_accuracy: 0.5574\n",
      "Epoch 5/10\n",
      "610/610 [==============================] - 84s 137ms/step - loss: 0.9882 - accuracy: 0.5657 - val_loss: 1.0307 - val_accuracy: 0.5597\n",
      "Epoch 6/10\n",
      "610/610 [==============================] - 91s 149ms/step - loss: 0.9719 - accuracy: 0.5723 - val_loss: 1.0422 - val_accuracy: 0.5579\n",
      "Epoch 7/10\n",
      "610/610 [==============================] - 100s 164ms/step - loss: 0.9593 - accuracy: 0.5767 - val_loss: 1.0459 - val_accuracy: 0.5556\n",
      "Epoch 8/10\n",
      "610/610 [==============================] - 93s 152ms/step - loss: 0.9511 - accuracy: 0.5808 - val_loss: 1.0243 - val_accuracy: 0.5593\n",
      "Epoch 9/10\n",
      "610/610 [==============================] - 88s 144ms/step - loss: 0.9392 - accuracy: 0.5865 - val_loss: 1.0351 - val_accuracy: 0.5582\n",
      "Epoch 10/10\n",
      "610/610 [==============================] - 96s 157ms/step - loss: 0.9318 - accuracy: 0.5904 - val_loss: 1.0230 - val_accuracy: 0.5673\n"
     ]
    }
   ],
   "source": [
    "history = model.fit(X_train, y_train, batch_size=512, epochs=10, validation_data=(X_valid, y_valid))"
   ]
  },
  {
   "cell_type": "code",
   "execution_count": 51,
   "id": "3660a59d",
   "metadata": {},
   "outputs": [
    {
     "data": {
      "image/png": "[encoded data removed]",
      "text/plain": [
       "<Figure size 640x480 with 1 Axes>"
      ]
     },
     "metadata": {},
     "output_type": "display_data"
    }
   ],
   "source": [
    "plt.plot(history.history['accuracy'], label='Training acc')\n",
    "plt.plot(history.history['val_accuracy'], label='Validation acc')\n",
    "plt.title('Accuracy of model')\n",
    "plt.ylabel('Accuracy')\n",
    "plt.xlabel('Epoch')\n",
    "plt.legend()\n",
    "plt.show()"
   ]
  },
  {
   "cell_type": "code",
   "execution_count": 52,
   "id": "fc17e882",
   "metadata": {},
   "outputs": [
    {
     "name": "stdout",
     "output_type": "stream",
     "text": [
      "542/542 [==============================] - 3s 4ms/step\n"
     ]
    }
   ],
   "source": [
    "y_pred = model.predict(X_test)"
   ]
  },
  {
   "cell_type": "code",
   "execution_count": 56,
   "id": "14ea85c2",
   "metadata": {},
   "outputs": [
    {
     "data": {
      "text/plain": [
       "array([0.00113817, 0.01269537, 0.1234075 , 0.44653752, 0.4162215 ],\n",
       "      dtype=float32)"
      ]
     },
     "execution_count": 56,
     "metadata": {},
     "output_type": "execute_result"
    }
   ],
   "source": [
    "y_pred[0]"
   ]
  },
  {
   "cell_type": "code",
   "execution_count": 72,
   "id": "768f36e3",
   "metadata": {},
   "outputs": [],
   "source": [
    "predictions = []\n",
    "for i in range(len(y_pred)):\n",
    "    max_value = np.max(y_pred[i])\n",
    "    index = np.where(y_pred==max_value)\n",
    "    predictions.append(index[1][0])    "
   ]
  },
  {
   "cell_type": "code",
   "execution_count": 63,
   "id": "e03e915d",
   "metadata": {},
   "outputs": [
    {
     "data": {
      "text/plain": [
       "0.44653752"
      ]
     },
     "execution_count": 63,
     "metadata": {},
     "output_type": "execute_result"
    }
   ],
   "source": [
    "max_value = np.max(y_pred[0])\n",
    "max_value"
   ]
  },
  {
   "cell_type": "code",
   "execution_count": 73,
   "id": "8fdebfa3",
   "metadata": {},
   "outputs": [
    {
     "data": {
      "text/plain": [
       "[3, 4, 4, 4, 4, 1, 4, 4, 0, 3]"
      ]
     },
     "execution_count": 73,
     "metadata": {},
     "output_type": "execute_result"
    }
   ],
   "source": [
    "predictions[:10]"
   ]
  },
  {
   "cell_type": "code",
   "execution_count": 74,
   "id": "d128943e",
   "metadata": {},
   "outputs": [
    {
     "data": {
      "text/plain": [
       "0.5643364313340645"
      ]
     },
     "execution_count": 74,
     "metadata": {},
     "output_type": "execute_result"
    }
   ],
   "source": [
    "accuracy_score(y_test, predictions)"
   ]
  },
  {
   "cell_type": "code",
   "execution_count": 75,
   "id": "20d7b30d",
   "metadata": {
    "scrolled": true
   },
   "outputs": [
    {
     "name": "stdout",
     "output_type": "stream",
     "text": [
      "              precision    recall  f1-score   support\n",
      "\n",
      "           0       0.60      0.66      0.63      1931\n",
      "           1       0.32      0.15      0.20      1459\n",
      "           2       0.31      0.32      0.31      2034\n",
      "           3       0.44      0.35      0.39      4473\n",
      "           4       0.68      0.82      0.74      7426\n",
      "\n",
      "    accuracy                           0.56     17323\n",
      "   macro avg       0.47      0.46      0.46     17323\n",
      "weighted avg       0.54      0.56      0.54     17323\n",
      "\n"
     ]
    }
   ],
   "source": [
    "print(classification_report(y_test, predictions))"
   ]
  },
  {
   "cell_type": "code",
   "execution_count": 77,
   "id": "ceb7e4c0",
   "metadata": {},
   "outputs": [],
   "source": [
    "from tensorflow.keras.layers import LeakyReLU\n",
    "\n",
    "model2 = Sequential()\n",
    "model2.add(Embedding(input_dim=len(tokenizer.word_index)+1, \n",
    "                    output_dim=100, \n",
    "                    embeddings_initializer=Constant(embedding_matrix),\n",
    "                    input_length=max_sequence_length,\n",
    "                    trainable=False))\n",
    "model2.add(Flatten())\n",
    "model2.add(Dense(32))\n",
    "model2.add(LeakyReLU(alpha=0.01))\n",
    "model2.add(Dropout(0.3))\n",
    "model2.add(Dense(32))\n",
    "model2.add(LeakyReLU(alpha=0.01))\n",
    "model2.add(Dense(5, activation='softmax'))\n",
    "\n",
    "model2.compile(optimizer='adam', loss='sparse_categorical_crossentropy', metrics=['accuracy'])"
   ]
  },
  {
   "cell_type": "code",
   "execution_count": 78,
   "id": "fa82a027",
   "metadata": {},
   "outputs": [
    {
     "name": "stdout",
     "output_type": "stream",
     "text": [
      "Epoch 1/10\n",
      "2437/2437 [==============================] - 121s 48ms/step - loss: 1.1147 - accuracy: 0.5155 - val_loss: 1.0280 - val_accuracy: 0.5567\n",
      "Epoch 2/10\n",
      "2437/2437 [==============================] - 148s 61ms/step - loss: 1.0241 - accuracy: 0.5549 - val_loss: 1.0194 - val_accuracy: 0.5603\n",
      "Epoch 3/10\n",
      "2437/2437 [==============================] - 131s 54ms/step - loss: 0.9883 - accuracy: 0.5714 - val_loss: 1.0122 - val_accuracy: 0.5581\n",
      "Epoch 4/10\n",
      "2437/2437 [==============================] - 114s 47ms/step - loss: 0.9626 - accuracy: 0.5821 - val_loss: 1.0052 - val_accuracy: 0.5716\n",
      "Epoch 5/10\n",
      "2437/2437 [==============================] - 113s 46ms/step - loss: 0.9409 - accuracy: 0.5927 - val_loss: 1.0036 - val_accuracy: 0.5679\n",
      "Epoch 6/10\n",
      "2437/2437 [==============================] - 110s 45ms/step - loss: 0.9205 - accuracy: 0.6014 - val_loss: 1.0109 - val_accuracy: 0.5690\n",
      "Epoch 7/10\n",
      "2437/2437 [==============================] - 113s 46ms/step - loss: 0.9030 - accuracy: 0.6096 - val_loss: 1.0167 - val_accuracy: 0.5623\n",
      "Epoch 8/10\n",
      "2437/2437 [==============================] - 114s 47ms/step - loss: 0.8862 - accuracy: 0.6167 - val_loss: 1.0263 - val_accuracy: 0.5662\n",
      "Epoch 9/10\n",
      "2437/2437 [==============================] - 111s 46ms/step - loss: 0.8691 - accuracy: 0.6258 - val_loss: 1.0347 - val_accuracy: 0.5654\n",
      "Epoch 10/10\n",
      "2437/2437 [==============================] - 115s 47ms/step - loss: 0.8527 - accuracy: 0.6330 - val_loss: 1.0264 - val_accuracy: 0.5681\n"
     ]
    }
   ],
   "source": [
    "history2 = model2.fit(X_train, y_train, batch_size=128, epochs=10, validation_data=(X_valid, y_valid))"
   ]
  },
  {
   "cell_type": "code",
   "execution_count": 79,
   "id": "c6d8d491",
   "metadata": {},
   "outputs": [
    {
     "name": "stdout",
     "output_type": "stream",
     "text": [
      "542/542 [==============================] - 4s 8ms/step - loss: 1.0201 - accuracy: 0.5674\n",
      "Test Loss: 1.0201, Test Accuracy: 0.5674\n"
     ]
    }
   ],
   "source": [
    "# Evaluate the model on the test set\n",
    "loss, accuracy = model2.evaluate(X_test, y_test)\n",
    "print(f'Test Loss: {loss:.4f}, Test Accuracy: {accuracy:.4f}')"
   ]
  },
  {
   "cell_type": "code",
   "execution_count": 80,
   "id": "a4ff2e77",
   "metadata": {},
   "outputs": [
    {
     "data": {
      "image/png": "[encoded data removed]",
      "text/plain": [
       "<Figure size 640x480 with 1 Axes>"
      ]
     },
     "metadata": {},
     "output_type": "display_data"
    }
   ],
   "source": [
    "plt.plot(history2.history['accuracy'], label='Training acc')\n",
    "plt.plot(history2.history['val_accuracy'], label='Validation acc')\n",
    "plt.title('Accuracy of model')\n",
    "plt.ylabel('Accuracy')\n",
    "plt.xlabel('Epoch')\n",
    "plt.legend()\n",
    "plt.show()"
   ]
  },
  {
   "cell_type": "code",
   "execution_count": 82,
   "id": "fb5db9bc",
   "metadata": {},
   "outputs": [
    {
     "name": "stdout",
     "output_type": "stream",
     "text": [
      "Model: \"sequential_4\"\n",
      "_________________________________________________________________\n",
      " Layer (type)                Output Shape              Param #   \n",
      "=================================================================\n",
      " embedding_4 (Embedding)     (None, 1002, 100)         18975000  \n",
      "                                                                 \n",
      " flatten_3 (Flatten)         (None, 100200)            0         \n",
      "                                                                 \n",
      " dense_10 (Dense)            (None, 32)                3206432   \n",
      "                                                                 \n",
      " dropout_5 (Dropout)         (None, 32)                0         \n",
      "                                                                 \n",
      " dense_11 (Dense)            (None, 32)                1056      \n",
      "                                                                 \n",
      " dropout_6 (Dropout)         (None, 32)                0         \n",
      "                                                                 \n",
      " dense_12 (Dense)            (None, 5)                 165       \n",
      "                                                                 \n",
      "=================================================================\n",
      "Total params: 22182653 (84.62 MB)\n",
      "Trainable params: 3207653 (12.24 MB)\n",
      "Non-trainable params: 18975000 (72.38 MB)\n",
      "_________________________________________________________________\n"
     ]
    }
   ],
   "source": [
    "# third model, will lower batch size\n",
    "model3 = Sequential()\n",
    "model3.add(Embedding(input_dim=len(tokenizer.word_index)+1, \n",
    "                    output_dim=100, \n",
    "                    embeddings_initializer=Constant(embedding_matrix),\n",
    "                    input_length=max_sequence_length,\n",
    "                    trainable=False))\n",
    "model3.add(Flatten())\n",
    "model3.add(Dense(32, activation='relu'))\n",
    "model3.add(Dropout(0.3))\n",
    "model3.add(Dense(32, activation = 'relu'))\n",
    "model3.add(Dropout(0.3))\n",
    "model3.add(Dense(5, activation='softmax'))\n",
    "\n",
    "model3.summary()"
   ]
  },
  {
   "cell_type": "code",
   "execution_count": 83,
   "id": "e35b399f",
   "metadata": {},
   "outputs": [],
   "source": [
    "model3.compile(optimizer='adam', loss='sparse_categorical_crossentropy', metrics=['accuracy'])"
   ]
  },
  {
   "cell_type": "code",
   "execution_count": 85,
   "id": "783e9134",
   "metadata": {},
   "outputs": [
    {
     "name": "stdout",
     "output_type": "stream",
     "text": [
      "Epoch 1/10\n",
      "9745/9745 [==============================] - 239s 24ms/step - loss: 1.1708 - accuracy: 0.4896 - val_loss: 1.0649 - val_accuracy: 0.5363\n",
      "Epoch 2/10\n",
      "9745/9745 [==============================] - 227s 23ms/step - loss: 1.0848 - accuracy: 0.5274 - val_loss: 1.0315 - val_accuracy: 0.5519\n",
      "Epoch 3/10\n",
      "9745/9745 [==============================] - 244s 25ms/step - loss: 1.0525 - accuracy: 0.5396 - val_loss: 1.0195 - val_accuracy: 0.5516\n",
      "Epoch 4/10\n",
      "9745/9745 [==============================] - 259s 27ms/step - loss: 1.0304 - accuracy: 0.5509 - val_loss: 1.0231 - val_accuracy: 0.5515\n",
      "Epoch 5/10\n",
      "9745/9745 [==============================] - 239s 24ms/step - loss: 1.0123 - accuracy: 0.5575 - val_loss: 1.0194 - val_accuracy: 0.5649\n",
      "Epoch 6/10\n",
      "9745/9745 [==============================] - 227s 23ms/step - loss: 0.9986 - accuracy: 0.5625 - val_loss: 1.0239 - val_accuracy: 0.5592\n",
      "Epoch 7/10\n",
      "9745/9745 [==============================] - 232s 24ms/step - loss: 0.9863 - accuracy: 0.5684 - val_loss: 1.0162 - val_accuracy: 0.5615\n",
      "Epoch 8/10\n",
      "9745/9745 [==============================] - 257s 26ms/step - loss: 0.9756 - accuracy: 0.5725 - val_loss: 1.0242 - val_accuracy: 0.5625\n",
      "Epoch 9/10\n",
      "9745/9745 [==============================] - 223s 23ms/step - loss: 0.9657 - accuracy: 0.5773 - val_loss: 1.0265 - val_accuracy: 0.5588\n",
      "Epoch 10/10\n",
      "9745/9745 [==============================] - 295s 30ms/step - loss: 0.9584 - accuracy: 0.5814 - val_loss: 1.0265 - val_accuracy: 0.5653\n"
     ]
    }
   ],
   "source": [
    "history3 = model3.fit(X_train, y_train, epochs=10, batch_size=32, validation_data=(X_valid, y_valid))"
   ]
  },
  {
   "cell_type": "code",
   "execution_count": 86,
   "id": "29c3aa45",
   "metadata": {},
   "outputs": [
    {
     "data": {
      "image/png": "[encoded data removed]",
      "text/plain": [
       "<Figure size 640x480 with 1 Axes>"
      ]
     },
     "metadata": {},
     "output_type": "display_data"
    }
   ],
   "source": [
    "plt.plot(history3.history['accuracy'], label='Training acc')\n",
    "plt.plot(history3.history['val_accuracy'], label='Validation acc')\n",
    "plt.title('Accuracy of model')\n",
    "plt.ylabel('Accuracy')\n",
    "plt.xlabel('Epoch')\n",
    "plt.legend()\n",
    "plt.show()"
   ]
  },
  {
   "cell_type": "code",
   "execution_count": 87,
   "id": "e6213819",
   "metadata": {},
   "outputs": [
    {
     "name": "stdout",
     "output_type": "stream",
     "text": [
      "542/542 [==============================] - 4s 6ms/step - loss: 1.0152 - accuracy: 0.5637\n",
      "Test Loss: 1.0152, Test Accuracy: 0.5637\n"
     ]
    }
   ],
   "source": [
    "loss, accuracy = model3.evaluate(X_test, y_test)\n",
    "print(f'Test Loss: {loss:.4f}, Test Accuracy: {accuracy:.4f}')"
   ]
  },
  {
   "cell_type": "code",
   "execution_count": 88,
   "id": "c4bd9e80",
   "metadata": {},
   "outputs": [
    {
     "name": "stdout",
     "output_type": "stream",
     "text": [
      "542/542 [==============================] - 3s 5ms/step\n",
      "              precision    recall  f1-score   support\n",
      "\n",
      "           0       0.60      0.66      0.63      1931\n",
      "           1       0.32      0.15      0.20      1459\n",
      "           2       0.31      0.32      0.31      2034\n",
      "           3       0.44      0.35      0.39      4473\n",
      "           4       0.68      0.82      0.74      7426\n",
      "\n",
      "    accuracy                           0.56     17323\n",
      "   macro avg       0.47      0.46      0.46     17323\n",
      "weighted avg       0.54      0.56      0.54     17323\n",
      "\n"
     ]
    }
   ],
   "source": [
    "y_pred3 = model3.predict(X_test)\n",
    "predictions3 = []\n",
    "for i in range(len(y_pred3)):\n",
    "    max_value = np.max(y_pred3[i])\n",
    "    index = np.where(y_pred3==max_value)\n",
    "    predictions3.append(index[1][0])\n",
    "    \n",
    "print(classification_report(y_test, predictions))"
   ]
  },
  {
   "cell_type": "code",
   "execution_count": null,
   "id": "9e1e6ffc",
   "metadata": {},
   "outputs": [],
   "source": []
  }
 ],
 "metadata": {
  "kernelspec": {
   "display_name": "ML-Kernel",
   "language": "python",
   "name": "ml-kernel"
  },
  "language_info": {
   "codemirror_mode": {
    "name": "ipython",
    "version": 3
   },
   "file_extension": ".py",
   "mimetype": "text/x-python",
   "name": "python",
   "nbconvert_exporter": "python",
   "pygments_lexer": "ipython3",
   "version": "3.9.12"
  }
 },
 "nbformat": 4,
 "nbformat_minor": 5
}
